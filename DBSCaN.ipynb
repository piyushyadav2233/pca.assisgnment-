{
  "nbformat": 4,
  "nbformat_minor": 0,
  "metadata": {
    "colab": {
      "provenance": [],
      "authorship_tag": "ABX9TyMCE4L3rpFIpCYyVrdYatZS",
      "include_colab_link": true
    },
    "kernelspec": {
      "name": "python3",
      "display_name": "Python 3"
    },
    "language_info": {
      "name": "python"
    }
  },
  "cells": [
    {
      "cell_type": "markdown",
      "metadata": {
        "id": "view-in-github",
        "colab_type": "text"
      },
      "source": [
        "<a href=\"https://colab.research.google.com/github/piyushyadav2233/pca.assisgnment-/blob/main/DBSCaN.ipynb\" target=\"_parent\"><img src=\"https://colab.research.google.com/assets/colab-badge.svg\" alt=\"Open In Colab\"/></a>"
      ]
    },
    {
      "cell_type": "code",
      "execution_count": 40,
      "metadata": {
        "id": "cbRuQ2wgf4c6"
      },
      "outputs": [],
      "source": [
        "import sklearn.cluster as cluster\n",
        "import sklearn.metrics as metrics\n",
        "import numpy as np\n",
        "import pandas as pd\n",
        "import matplotlib.pyplot as plt\n",
        "from sklearn.preprocessing import StandardScaler\n",
        "\n"
      ]
    },
    {
      "cell_type": "code",
      "source": [
        "#sample data\n",
        "X = np.array([[1, 2], [1, 4], [1, 0],\n",
        "              [10, 2], [10, 4], [10, 0]])\n",
        "y = np.array([0, 0, 0, 1, 1, 1])\n"
      ],
      "metadata": {
        "id": "wExrZ_SNf_tf"
      },
      "execution_count": 41,
      "outputs": []
    },
    {
      "cell_type": "code",
      "source": [
        "# Create a DBSCAN object and fit it to the data\n",
        "db = cluster.DBSCAN(eps=1, min_samples=2).fit(X)\n",
        "labels = db.labels_\n",
        "print(labels)\n"
      ],
      "metadata": {
        "colab": {
          "base_uri": "https://localhost:8080/"
        },
        "id": "ofGlN5KRf_v7",
        "outputId": "44546c70-b407-4c8a-a204-1e3b84b28902"
      },
      "execution_count": 42,
      "outputs": [
        {
          "output_type": "stream",
          "name": "stdout",
          "text": [
            "[-1 -1 -1 -1 -1 -1]\n"
          ]
        }
      ]
    },
    {
      "cell_type": "code",
      "source": [
        "#loada libries\n",
        "from sklearn.datasets import load_iris\n",
        "from sklearn.cluster import KMeans\n",
        "import matplotlib.pyplot as plt"
      ],
      "metadata": {
        "id": "rs9b2clLf_yc"
      },
      "execution_count": 43,
      "outputs": []
    },
    {
      "cell_type": "code",
      "source": [
        "\n",
        "\n",
        "# Load the iris dataset\n",
        "iris = load_iris() # Changed this line from load_iris=load_iris()\n",
        "features = iris\n"
      ],
      "metadata": {
        "id": "lLeVJsJ2f_05"
      },
      "execution_count": 44,
      "outputs": []
    },
    {
      "cell_type": "code",
      "source": [
        "#standrize scaler\n",
        "scaler = StandardScaler()\n",
        "\n",
        "# Select only the numerical features from the iris dataset\n",
        "numerical_features = iris.data  # Use iris.data to access the numerical feature array\n",
        "\n",
        "scaled_features = scaler.fit_transform(numerical_features)\n"
      ],
      "metadata": {
        "id": "6iJAgcItf_3d"
      },
      "execution_count": 45,
      "outputs": []
    },
    {
      "cell_type": "code",
      "source": [
        "#create DBSCAN\n",
        "dbscan = cluster.DBSCAN(eps=0.5, min_samples=5)\n",
        "dbscan.fit(scaled_features)\n"
      ],
      "metadata": {
        "colab": {
          "base_uri": "https://localhost:8080/",
          "height": 74
        },
        "id": "Q7LeRBe-f_5y",
        "outputId": "c3582780-5948-4bc7-a5f4-e2236586651e"
      },
      "execution_count": 46,
      "outputs": [
        {
          "output_type": "execute_result",
          "data": {
            "text/plain": [
              "DBSCAN()"
            ],
            "text/html": [
              "<style>#sk-container-id-5 {color: black;}#sk-container-id-5 pre{padding: 0;}#sk-container-id-5 div.sk-toggleable {background-color: white;}#sk-container-id-5 label.sk-toggleable__label {cursor: pointer;display: block;width: 100%;margin-bottom: 0;padding: 0.3em;box-sizing: border-box;text-align: center;}#sk-container-id-5 label.sk-toggleable__label-arrow:before {content: \"▸\";float: left;margin-right: 0.25em;color: #696969;}#sk-container-id-5 label.sk-toggleable__label-arrow:hover:before {color: black;}#sk-container-id-5 div.sk-estimator:hover label.sk-toggleable__label-arrow:before {color: black;}#sk-container-id-5 div.sk-toggleable__content {max-height: 0;max-width: 0;overflow: hidden;text-align: left;background-color: #f0f8ff;}#sk-container-id-5 div.sk-toggleable__content pre {margin: 0.2em;color: black;border-radius: 0.25em;background-color: #f0f8ff;}#sk-container-id-5 input.sk-toggleable__control:checked~div.sk-toggleable__content {max-height: 200px;max-width: 100%;overflow: auto;}#sk-container-id-5 input.sk-toggleable__control:checked~label.sk-toggleable__label-arrow:before {content: \"▾\";}#sk-container-id-5 div.sk-estimator input.sk-toggleable__control:checked~label.sk-toggleable__label {background-color: #d4ebff;}#sk-container-id-5 div.sk-label input.sk-toggleable__control:checked~label.sk-toggleable__label {background-color: #d4ebff;}#sk-container-id-5 input.sk-hidden--visually {border: 0;clip: rect(1px 1px 1px 1px);clip: rect(1px, 1px, 1px, 1px);height: 1px;margin: -1px;overflow: hidden;padding: 0;position: absolute;width: 1px;}#sk-container-id-5 div.sk-estimator {font-family: monospace;background-color: #f0f8ff;border: 1px dotted black;border-radius: 0.25em;box-sizing: border-box;margin-bottom: 0.5em;}#sk-container-id-5 div.sk-estimator:hover {background-color: #d4ebff;}#sk-container-id-5 div.sk-parallel-item::after {content: \"\";width: 100%;border-bottom: 1px solid gray;flex-grow: 1;}#sk-container-id-5 div.sk-label:hover label.sk-toggleable__label {background-color: #d4ebff;}#sk-container-id-5 div.sk-serial::before {content: \"\";position: absolute;border-left: 1px solid gray;box-sizing: border-box;top: 0;bottom: 0;left: 50%;z-index: 0;}#sk-container-id-5 div.sk-serial {display: flex;flex-direction: column;align-items: center;background-color: white;padding-right: 0.2em;padding-left: 0.2em;position: relative;}#sk-container-id-5 div.sk-item {position: relative;z-index: 1;}#sk-container-id-5 div.sk-parallel {display: flex;align-items: stretch;justify-content: center;background-color: white;position: relative;}#sk-container-id-5 div.sk-item::before, #sk-container-id-5 div.sk-parallel-item::before {content: \"\";position: absolute;border-left: 1px solid gray;box-sizing: border-box;top: 0;bottom: 0;left: 50%;z-index: -1;}#sk-container-id-5 div.sk-parallel-item {display: flex;flex-direction: column;z-index: 1;position: relative;background-color: white;}#sk-container-id-5 div.sk-parallel-item:first-child::after {align-self: flex-end;width: 50%;}#sk-container-id-5 div.sk-parallel-item:last-child::after {align-self: flex-start;width: 50%;}#sk-container-id-5 div.sk-parallel-item:only-child::after {width: 0;}#sk-container-id-5 div.sk-dashed-wrapped {border: 1px dashed gray;margin: 0 0.4em 0.5em 0.4em;box-sizing: border-box;padding-bottom: 0.4em;background-color: white;}#sk-container-id-5 div.sk-label label {font-family: monospace;font-weight: bold;display: inline-block;line-height: 1.2em;}#sk-container-id-5 div.sk-label-container {text-align: center;}#sk-container-id-5 div.sk-container {/* jupyter's `normalize.less` sets `[hidden] { display: none; }` but bootstrap.min.css set `[hidden] { display: none !important; }` so we also need the `!important` here to be able to override the default hidden behavior on the sphinx rendered scikit-learn.org. See: https://github.com/scikit-learn/scikit-learn/issues/21755 */display: inline-block !important;position: relative;}#sk-container-id-5 div.sk-text-repr-fallback {display: none;}</style><div id=\"sk-container-id-5\" class=\"sk-top-container\"><div class=\"sk-text-repr-fallback\"><pre>DBSCAN()</pre><b>In a Jupyter environment, please rerun this cell to show the HTML representation or trust the notebook. <br />On GitHub, the HTML representation is unable to render, please try loading this page with nbviewer.org.</b></div><div class=\"sk-container\" hidden><div class=\"sk-item\"><div class=\"sk-estimator sk-toggleable\"><input class=\"sk-toggleable__control sk-hidden--visually\" id=\"sk-estimator-id-5\" type=\"checkbox\" checked><label for=\"sk-estimator-id-5\" class=\"sk-toggleable__label sk-toggleable__label-arrow\">DBSCAN</label><div class=\"sk-toggleable__content\"><pre>DBSCAN()</pre></div></div></div></div></div>"
            ]
          },
          "metadata": {},
          "execution_count": 46
        }
      ]
    },
    {
      "cell_type": "code",
      "source": [
        "from sklearn.cluster import DBSCAN # Import the DBSCAN class from sklearn.cluster\n",
        "\n",
        "cluster = DBSCAN(n_jobs=-1)\n",
        "cluster.fit(scaled_features)\n",
        "cluster.labels_"
      ],
      "metadata": {
        "colab": {
          "base_uri": "https://localhost:8080/"
        },
        "id": "jRMcNI-Cf_8Z",
        "outputId": "cf691b31-b0f6-428c-a664-0d46d452234a"
      },
      "execution_count": 47,
      "outputs": [
        {
          "output_type": "execute_result",
          "data": {
            "text/plain": [
              "array([ 0,  0,  0,  0,  0,  0,  0,  0,  0,  0,  0,  0,  0,  0, -1, -1,  0,\n",
              "        0,  0,  0,  0,  0,  0,  0,  0,  0,  0,  0,  0,  0,  0,  0, -1, -1,\n",
              "        0,  0,  0,  0,  0,  0,  0, -1,  0,  0,  0,  0,  0,  0,  0,  0,  1,\n",
              "        1,  1,  1,  1,  1, -1, -1,  1, -1, -1,  1, -1,  1,  1,  1,  1,  1,\n",
              "       -1,  1,  1,  1, -1,  1,  1,  1,  1,  1,  1,  1,  1,  1,  1,  1,  1,\n",
              "       -1,  1, -1,  1,  1,  1,  1,  1, -1,  1,  1,  1,  1, -1,  1, -1,  1,\n",
              "        1,  1,  1, -1, -1, -1, -1, -1,  1,  1,  1,  1, -1,  1,  1, -1, -1,\n",
              "       -1,  1,  1, -1,  1,  1, -1,  1,  1,  1, -1, -1, -1,  1,  1,  1, -1,\n",
              "       -1,  1,  1,  1,  1,  1,  1,  1,  1,  1,  1,  1, -1,  1])"
            ]
          },
          "metadata": {},
          "execution_count": 47
        }
      ]
    },
    {
      "cell_type": "code",
      "source": [
        "model = cluster.fit(scaled_features) # Changed features_std to scaled_features\n",
        "model.labels_"
      ],
      "metadata": {
        "colab": {
          "base_uri": "https://localhost:8080/"
        },
        "id": "kGj7MI54f_-5",
        "outputId": "772b6828-2da8-45fb-c2bf-2e4618605106"
      },
      "execution_count": 48,
      "outputs": [
        {
          "output_type": "execute_result",
          "data": {
            "text/plain": [
              "array([ 0,  0,  0,  0,  0,  0,  0,  0,  0,  0,  0,  0,  0,  0, -1, -1,  0,\n",
              "        0,  0,  0,  0,  0,  0,  0,  0,  0,  0,  0,  0,  0,  0,  0, -1, -1,\n",
              "        0,  0,  0,  0,  0,  0,  0, -1,  0,  0,  0,  0,  0,  0,  0,  0,  1,\n",
              "        1,  1,  1,  1,  1, -1, -1,  1, -1, -1,  1, -1,  1,  1,  1,  1,  1,\n",
              "       -1,  1,  1,  1, -1,  1,  1,  1,  1,  1,  1,  1,  1,  1,  1,  1,  1,\n",
              "       -1,  1, -1,  1,  1,  1,  1,  1, -1,  1,  1,  1,  1, -1,  1, -1,  1,\n",
              "        1,  1,  1, -1, -1, -1, -1, -1,  1,  1,  1,  1, -1,  1,  1, -1, -1,\n",
              "       -1,  1,  1, -1,  1,  1, -1,  1,  1,  1, -1, -1, -1,  1,  1,  1, -1,\n",
              "       -1,  1,  1,  1,  1,  1,  1,  1,  1,  1,  1,  1, -1,  1])"
            ]
          },
          "metadata": {},
          "execution_count": 48
        }
      ]
    },
    {
      "cell_type": "code",
      "source": [
        "#clustering using K Means\n",
        "#problem\n",
        "#observation into k means\n"
      ],
      "metadata": {
        "id": "VY6-D5F8gABe"
      },
      "execution_count": 49,
      "outputs": []
    },
    {
      "cell_type": "code",
      "source": [
        "#use K means clustering\n",
        "#load libaries\n",
        "from sklearn.cluster import KMeans\n",
        "from sklearn.datasets import make_blobs\n",
        "from sklearn.metrics import silhouette_score\n",
        "from sklearn.preprocessing import StandardScaler\n",
        "from sklearn.datasets import load_iris\n",
        "from sklearn.cluster import KMeans\n",
        "import matplotlib.pyplot as plt\n",
        "import numpy as np\n",
        "import pandas as pd\n",
        "import seaborn as sns\n",
        "import matplotlib.pyplot as plt\n",
        "import matplotlib.cm as cm\n",
        "from sklearn.datasets import load_iris\n",
        "from sklearn.cluster import KMeans\n",
        "import matplotlib.pyplot as plt\n",
        "from sklearn.preprocessing import StandardScaler\n",
        "\n",
        "\n"
      ],
      "metadata": {
        "id": "7etut40dgAD6"
      },
      "execution_count": 50,
      "outputs": []
    },
    {
      "cell_type": "code",
      "source": [
        "iris = load_iris()\n",
        "features = iris.data"
      ],
      "metadata": {
        "id": "NddkLkDtgAGi"
      },
      "execution_count": 51,
      "outputs": []
    },
    {
      "cell_type": "code",
      "source": [
        "#standarize feature\n",
        "scaler = StandardScaler()\n",
        "features_std = scaler.fit_transform(features)\n",
        "\n"
      ],
      "metadata": {
        "id": "r-VTbIeVgAJX"
      },
      "execution_count": 52,
      "outputs": []
    },
    {
      "cell_type": "code",
      "source": [
        "#create k-means object\n",
        "cluster = KMeans(n_clusters=3, random_state=0, n_init=\"auto\")\n",
        "model = cluster.fit(features_std)\n",
        "model.labels_\n"
      ],
      "metadata": {
        "colab": {
          "base_uri": "https://localhost:8080/"
        },
        "id": "-7gApo9ugALs",
        "outputId": "b62ddd57-4ece-4060-aa57-7f72e8385db0"
      },
      "execution_count": 53,
      "outputs": [
        {
          "output_type": "execute_result",
          "data": {
            "text/plain": [
              "array([1, 1, 1, 1, 1, 1, 1, 1, 1, 1, 1, 1, 1, 1, 1, 1, 1, 1, 1, 1, 1, 1,\n",
              "       1, 1, 1, 1, 1, 1, 1, 1, 1, 1, 1, 1, 1, 1, 1, 1, 1, 1, 1, 1, 1, 1,\n",
              "       1, 1, 1, 1, 1, 1, 2, 2, 2, 0, 0, 0, 2, 0, 0, 0, 0, 0, 0, 0, 0, 2,\n",
              "       0, 0, 0, 0, 2, 0, 0, 0, 0, 2, 2, 2, 0, 0, 0, 0, 0, 0, 0, 2, 2, 0,\n",
              "       0, 0, 0, 0, 0, 0, 0, 0, 0, 0, 0, 0, 2, 0, 2, 2, 2, 2, 0, 2, 2, 2,\n",
              "       2, 2, 2, 0, 0, 2, 2, 2, 2, 0, 2, 0, 2, 0, 2, 2, 0, 2, 2, 2, 2, 2,\n",
              "       2, 0, 0, 2, 2, 2, 0, 2, 2, 2, 0, 2, 2, 2, 0, 2, 2, 0], dtype=int32)"
            ]
          },
          "metadata": {},
          "execution_count": 53
        }
      ]
    },
    {
      "cell_type": "code",
      "source": [
        "#model training\n",
        "model=cluster.fit(features_std)\n",
        "model.labels_"
      ],
      "metadata": {
        "colab": {
          "base_uri": "https://localhost:8080/"
        },
        "id": "OH3mlEs5gAOX",
        "outputId": "22d6edff-69ad-49dc-b8b2-b4611b6e9e9c"
      },
      "execution_count": 54,
      "outputs": [
        {
          "output_type": "execute_result",
          "data": {
            "text/plain": [
              "array([1, 1, 1, 1, 1, 1, 1, 1, 1, 1, 1, 1, 1, 1, 1, 1, 1, 1, 1, 1, 1, 1,\n",
              "       1, 1, 1, 1, 1, 1, 1, 1, 1, 1, 1, 1, 1, 1, 1, 1, 1, 1, 1, 1, 1, 1,\n",
              "       1, 1, 1, 1, 1, 1, 2, 2, 2, 0, 0, 0, 2, 0, 0, 0, 0, 0, 0, 0, 0, 2,\n",
              "       0, 0, 0, 0, 2, 0, 0, 0, 0, 2, 2, 2, 0, 0, 0, 0, 0, 0, 0, 2, 2, 0,\n",
              "       0, 0, 0, 0, 0, 0, 0, 0, 0, 0, 0, 0, 2, 0, 2, 2, 2, 2, 0, 2, 2, 2,\n",
              "       2, 2, 2, 0, 0, 2, 2, 2, 2, 0, 2, 0, 2, 0, 2, 2, 0, 2, 2, 2, 2, 2,\n",
              "       2, 0, 0, 2, 2, 2, 0, 2, 2, 2, 0, 2, 2, 2, 0, 2, 2, 0], dtype=int32)"
            ]
          },
          "metadata": {},
          "execution_count": 54
        }
      ]
    },
    {
      "cell_type": "code",
      "source": [
        "#view true class\n",
        "iris.target"
      ],
      "metadata": {
        "colab": {
          "base_uri": "https://localhost:8080/"
        },
        "id": "q3pwxIw3gAQq",
        "outputId": "45e57722-4ca7-4906-c0e0-cfa09ea8a9ef"
      },
      "execution_count": 55,
      "outputs": [
        {
          "output_type": "execute_result",
          "data": {
            "text/plain": [
              "array([0, 0, 0, 0, 0, 0, 0, 0, 0, 0, 0, 0, 0, 0, 0, 0, 0, 0, 0, 0, 0, 0,\n",
              "       0, 0, 0, 0, 0, 0, 0, 0, 0, 0, 0, 0, 0, 0, 0, 0, 0, 0, 0, 0, 0, 0,\n",
              "       0, 0, 0, 0, 0, 0, 1, 1, 1, 1, 1, 1, 1, 1, 1, 1, 1, 1, 1, 1, 1, 1,\n",
              "       1, 1, 1, 1, 1, 1, 1, 1, 1, 1, 1, 1, 1, 1, 1, 1, 1, 1, 1, 1, 1, 1,\n",
              "       1, 1, 1, 1, 1, 1, 1, 1, 1, 1, 1, 1, 2, 2, 2, 2, 2, 2, 2, 2, 2, 2,\n",
              "       2, 2, 2, 2, 2, 2, 2, 2, 2, 2, 2, 2, 2, 2, 2, 2, 2, 2, 2, 2, 2, 2,\n",
              "       2, 2, 2, 2, 2, 2, 2, 2, 2, 2, 2, 2, 2, 2, 2, 2, 2, 2])"
            ]
          },
          "metadata": {},
          "execution_count": 55
        }
      ]
    },
    {
      "cell_type": "code",
      "source": [
        "#creat new observation\n",
        "new_observation = [[0.8, 0.8, 0.8, 0.8]]\n",
        "#predict observation\n",
        "model.predict(new_observation)"
      ],
      "metadata": {
        "colab": {
          "base_uri": "https://localhost:8080/"
        },
        "id": "wB3Rjs5jm4ng",
        "outputId": "9122343c-6e20-4f70-e4c2-5710ea9c016a"
      },
      "execution_count": 56,
      "outputs": [
        {
          "output_type": "execute_result",
          "data": {
            "text/plain": [
              "array([2], dtype=int32)"
            ]
          },
          "metadata": {},
          "execution_count": 56
        }
      ]
    },
    {
      "cell_type": "code",
      "source": [
        "import numpy as np # import the NumPy module\n",
        "\n",
        "np.array([2],dtype='int32')"
      ],
      "metadata": {
        "colab": {
          "base_uri": "https://localhost:8080/"
        },
        "id": "z6dl_Ixsm4pz",
        "outputId": "dbe0e916-e359-47ef-c030-91c7d6b52072"
      },
      "execution_count": 58,
      "outputs": [
        {
          "output_type": "execute_result",
          "data": {
            "text/plain": [
              "array([2], dtype=int32)"
            ]
          },
          "metadata": {},
          "execution_count": 58
        }
      ]
    },
    {
      "cell_type": "code",
      "source": [
        "#veiw cluster centers\n",
        "model.cluster_centers_\n"
      ],
      "metadata": {
        "colab": {
          "base_uri": "https://localhost:8080/"
        },
        "id": "eIPQdUTZm4so",
        "outputId": "b5161dc5-2ae5-4fd1-f2df-8620e865d8d6"
      },
      "execution_count": 59,
      "outputs": [
        {
          "output_type": "execute_result",
          "data": {
            "text/plain": [
              "array([[-0.05021989, -0.88337647,  0.34773781,  0.2815273 ],\n",
              "       [-1.01457897,  0.85326268, -1.30498732, -1.25489349],\n",
              "       [ 1.13597027,  0.08842168,  0.99615451,  1.01752612]])"
            ]
          },
          "metadata": {},
          "execution_count": 59
        }
      ]
    },
    {
      "cell_type": "code",
      "source": [
        "#We use make_blobs to create 3 synthetic clusters.\n",
        "from sklearn.datasets import make_blobs\n",
        "features, _ = make_blobs(n_samples = 50,\n",
        "                         n_features = 2,\n",
        "                         centers = 3,\n",
        "                         random_state = 1)\n"
      ],
      "metadata": {
        "id": "3HJQ0HwXm4u6"
      },
      "execution_count": 60,
      "outputs": []
    },
    {
      "cell_type": "code",
      "source": [
        "x=StandardScaler()\n",
        "x.fit_transform(features)"
      ],
      "metadata": {
        "colab": {
          "base_uri": "https://localhost:8080/"
        },
        "id": "u_h2qVP0m4xV",
        "outputId": "98cb9a20-83de-4809-d7d1-0e2c3f6ff2bb"
      },
      "execution_count": 61,
      "outputs": [
        {
          "output_type": "execute_result",
          "data": {
            "text/plain": [
              "array([[-1.04829408e+00, -1.82214589e-01],\n",
              "       [-3.24097109e-01, -1.19658470e+00],\n",
              "       [-2.27881302e-01, -9.27672675e-01],\n",
              "       [-3.66860113e-01, -1.28512199e+00],\n",
              "       [-1.43540844e-01, -1.14036641e+00],\n",
              "       [ 1.49120402e+00,  9.17717843e-01],\n",
              "       [ 9.41550737e-01,  1.61438913e+00],\n",
              "       [-1.06768299e+00, -4.35754268e-01],\n",
              "       [ 1.56623146e+00,  1.16063413e+00],\n",
              "       [ 1.15911708e+00,  1.30534250e+00],\n",
              "       [ 7.32487165e-02, -1.11857104e+00],\n",
              "       [-1.97610675e-01, -1.00195828e+00],\n",
              "       [-1.73695712e-01, -1.56479437e+00],\n",
              "       [-1.29279892e+00, -5.37131763e-02],\n",
              "       [-6.65678669e-01, -1.25798005e+00],\n",
              "       [ 1.06159300e+00,  1.38041995e+00],\n",
              "       [ 1.65802692e+00,  9.66517100e-01],\n",
              "       [ 1.73706403e+00,  1.22910009e+00],\n",
              "       [-1.14028935e+00, -1.88396402e-01],\n",
              "       [-8.47328243e-01, -1.18759060e-01],\n",
              "       [ 1.33845267e+00,  1.33256923e+00],\n",
              "       [ 1.20105036e+00,  1.20551867e+00],\n",
              "       [-1.02851228e+00,  1.17588399e-01],\n",
              "       [ 1.50111451e+00,  1.24476269e+00],\n",
              "       [-1.40130791e+00, -3.77604449e-01],\n",
              "       [-4.70853869e-01, -5.89289391e-01],\n",
              "       [ 1.05588557e+00,  1.30277533e+00],\n",
              "       [-2.09781539e-01, -1.07310786e+00],\n",
              "       [ 1.21489997e+00,  1.19381180e+00],\n",
              "       [-3.47546763e-01, -9.88623591e-01],\n",
              "       [-4.49440433e-01, -1.07967537e+00],\n",
              "       [-1.39426041e+00, -2.59596102e-01],\n",
              "       [-9.97967281e-01, -3.78192132e-01],\n",
              "       [-1.13552016e+00, -4.86420472e-01],\n",
              "       [ 1.10159312e+00,  1.16607661e+00],\n",
              "       [ 1.05714032e+00,  1.21211952e+00],\n",
              "       [ 1.17436210e+00,  1.49019293e+00],\n",
              "       [-1.29077489e+00,  3.51504155e-02],\n",
              "       [-2.06499788e-01, -1.13194299e+00],\n",
              "       [-3.86945840e-01, -9.08463357e-01],\n",
              "       [-2.17197094e-01, -9.78880987e-01],\n",
              "       [ 1.26105903e+00,  1.50079781e+00],\n",
              "       [ 1.50131993e+00,  1.48456072e+00],\n",
              "       [-9.38484899e-01, -3.67244145e-01],\n",
              "       [-3.58072693e-01, -1.14718769e+00],\n",
              "       [-9.45309809e-01, -3.22260897e-01],\n",
              "       [-6.17847278e-01, -1.56977632e-01],\n",
              "       [-1.00204433e+00, -1.28050184e-01],\n",
              "       [-7.65511546e-01,  2.51219337e-04],\n",
              "       [-4.35276726e-01, -1.01489184e+00]])"
            ]
          },
          "metadata": {},
          "execution_count": 61
        }
      ]
    },
    {
      "cell_type": "code",
      "source": [
        "#We can visualize the resulting data:\n",
        "plt.scatter(features[:,0],features[:,1])\n"
      ],
      "metadata": {
        "colab": {
          "base_uri": "https://localhost:8080/",
          "height": 447
        },
        "id": "W7t5P9pioG8O",
        "outputId": "8237fc89-306a-4068-f912-91181bcda3bc"
      },
      "execution_count": 62,
      "outputs": [
        {
          "output_type": "execute_result",
          "data": {
            "text/plain": [
              "<matplotlib.collections.PathCollection at 0x7aa9b0e943a0>"
            ]
          },
          "metadata": {},
          "execution_count": 62
        },
        {
          "output_type": "display_data",
          "data": {
            "text/plain": [
              "<Figure size 640x480 with 1 Axes>"
            ],
            "image/png": "[encoded data removed]"
          },
          "metadata": {}
        }
      ]
    },
    {
      "cell_type": "code",
      "source": [
        "#Compute DBSCAN\n",
        "from sklearn.cluster import DBSCAN\n",
        "cluster = DBSCAN(n_jobs=-1)\n",
        "model = cluster.fit(features)\n",
        "model.labels_"
      ],
      "metadata": {
        "colab": {
          "base_uri": "https://localhost:8080/"
        },
        "id": "aD3zlwyAoG-v",
        "outputId": "b6764ba5-999d-450b-fc3e-c68ba1633c95"
      },
      "execution_count": 63,
      "outputs": [
        {
          "output_type": "execute_result",
          "data": {
            "text/plain": [
              "array([-1, -1,  0, -1,  0, -1, -1, -1, -1, -1, -1,  0, -1, -1, -1, -1, -1,\n",
              "       -1, -1, -1, -1, -1, -1, -1, -1, -1, -1,  0, -1,  0, -1, -1, -1, -1,\n",
              "       -1, -1, -1, -1,  0, -1,  0, -1, -1, -1, -1, -1, -1, -1, -1, -1])"
            ]
          },
          "metadata": {},
          "execution_count": 63
        }
      ]
    },
    {
      "cell_type": "code",
      "source": [
        "import numpy as np\n",
        "\n",
        "from sklearn import metrics\n",
        "from sklearn.cluster import DBSCAN\n"
      ],
      "metadata": {
        "id": "78SP5oRAoHBL"
      },
      "execution_count": 64,
      "outputs": []
    },
    {
      "cell_type": "code",
      "source": [
        "db = DBSCAN(eps=0.3, min_samples=10).fit(X)\n",
        "core_samples_mask = np.zeros_like(db.labels_, dtype=bool)\n",
        "core_samples_mask[db.core_sample_indices_] = True\n",
        "labels = db.labels_\n",
        "labels\n",
        "\n",
        "#\n"
      ],
      "metadata": {
        "colab": {
          "base_uri": "https://localhost:8080/"
        },
        "id": "urCW_1GsoHDt",
        "outputId": "3e45eff1-5125-4deb-d837-4257f8402c87"
      },
      "execution_count": 67,
      "outputs": [
        {
          "output_type": "execute_result",
          "data": {
            "text/plain": [
              "array([-1, -1, -1, -1, -1, -1])"
            ]
          },
          "metadata": {},
          "execution_count": 67
        }
      ]
    },
    {
      "cell_type": "code",
      "source": [
        "db = DBSCAN(eps=0.3, min_samples=10).fit(X)\n",
        "labels = db.labels_\n",
        "labels\n",
        "\n"
      ],
      "metadata": {
        "colab": {
          "base_uri": "https://localhost:8080/"
        },
        "id": "x34lHH1voHGD",
        "outputId": "ef3671d5-a70c-49a1-8691-9e64c593f1fd"
      },
      "execution_count": 68,
      "outputs": [
        {
          "output_type": "execute_result",
          "data": {
            "text/plain": [
              "array([-1, -1, -1, -1, -1, -1])"
            ]
          },
          "metadata": {},
          "execution_count": 68
        }
      ]
    },
    {
      "cell_type": "code",
      "source": [
        "# Number of clusters in labels, ignoring noise if present.\n",
        "n_clusters_ = len(set(labels)) - (1 if -1 in labels else 0)\n",
        "n_noise_= list(labels).count(-1)\n",
        "\n",
        "print(\"Estimated number of clusters: %d\" % n_clusters_)\n",
        "print(\"Estimated number of noise points: %d\" % n_noise_)"
      ],
      "metadata": {
        "colab": {
          "base_uri": "https://localhost:8080/"
        },
        "id": "hb5GYbmQm4z9",
        "outputId": "d4fe9208-044c-45ee-bf8e-bfdb8d7165b0"
      },
      "execution_count": 69,
      "outputs": [
        {
          "output_type": "stream",
          "name": "stdout",
          "text": [
            "Estimated number of clusters: 0\n",
            "Estimated number of noise points: 6\n"
          ]
        }
      ]
    },
    {
      "cell_type": "code",
      "source": [
        "# For example, if you have 6 data points and 2 clusters:\n",
        "labels_true = np.array([0, 0, 1, 1, 0, 1])\n",
        "labels_pred = np.array([0, 0, 1, 1, 2, 2])\n"
      ],
      "metadata": {
        "id": "3yQRUnlVpOBc"
      },
      "execution_count": 73,
      "outputs": []
    },
    {
      "cell_type": "code",
      "source": [
        "db = DBSCAN(eps=0.5, min_samples=5).fit(X) # Changed eps and min_samples\n",
        "labels = db.labels_\n",
        "\n",
        "# Number of clusters in labels, ignoring noise if present.\n",
        "n_clusters_ = len(set(labels)) - (1 if -1 in labels else 0)\n",
        "n_noise_= list(labels).count(-1)\n",
        "\n",
        "print(\"Estimated number of clusters: %d\" % n_clusters_)\n",
        "print(\"Estimated number of noise points: %d\" % n_noise_)\n",
        "\n"
      ],
      "metadata": {
        "colab": {
          "base_uri": "https://localhost:8080/"
        },
        "id": "Fsl6Zm97o9Hd",
        "outputId": "39bd685d-3e55-414f-de84-0e5a604863e3"
      },
      "execution_count": 77,
      "outputs": [
        {
          "output_type": "stream",
          "name": "stdout",
          "text": [
            "Estimated number of clusters: 0\n",
            "Estimated number of noise points: 6\n"
          ]
        }
      ]
    },
    {
      "cell_type": "code",
      "source": [
        "print(\"Estimated number of clusters: %d\" % n_clusters_)\n",
        "print(\"Estimated number of noise points: %d\" % n_noise_)\n",
        "\n",
        "print(f\"Homogeneity: {metrics.homogeneity_score(labels_true, labels):.3f}\")\n",
        "print(f\"Completeness: {metrics.completeness_score(labels_true, labels):.3f}\")\n",
        "print(f\"V-measure: {metrics.v_measure_score(labels_true, labels):.3f}\")\n",
        "print(f\"Adjusted Rand Index: {metrics.adjusted_rand_score(labels_true, labels):.3f}\")\n",
        "print(\n",
        "    \"Adjusted Mutual Information:\"\n",
        "    f\" {metrics.adjusted_mutual_info_score(labels_true, labels):.3f}\"\n",
        ")\n",
        "if n_clusters_ > 1: # Check if there are at least 2 clusters\n",
        "    print(f\"Silhouette Coefficient: {metrics.silhouette_score(X, labels):.3f}\")"
      ],
      "metadata": {
        "colab": {
          "base_uri": "https://localhost:8080/"
        },
        "id": "n29V5rQdo9Jy",
        "outputId": "56f9e7ba-76f9-43a4-94fb-757ee6e14c9b"
      },
      "execution_count": 78,
      "outputs": [
        {
          "output_type": "stream",
          "name": "stdout",
          "text": [
            "Estimated number of clusters: 0\n",
            "Estimated number of noise points: 6\n",
            "Homogeneity: 0.000\n",
            "Completeness: 1.000\n",
            "V-measure: 0.000\n",
            "Adjusted Rand Index: 0.000\n",
            "Adjusted Mutual Information: 0.000\n"
          ]
        }
      ]
    },
    {
      "cell_type": "code",
      "source": [
        "#speeding up K-Means clustering\n",
        "#problem\n",
        "#you want to group observation into K groups but K means takes too long\n",
        "#use mini batch K means:\n",
        "#load libraries\n",
        "from sklearn.cluster import MiniBatchKMeans\n",
        "from sklearn.metrics import silhouette_score\n",
        "from sklearn.datasets import make_blobs\n",
        "from sklearn.preprocessing import StandardScaler\n",
        "from sklearn.datasets import load_iris\n",
        "from sklearn.cluster import KMeans\n",
        "from sklearn.cluster import MiniBatchKMeans\n",
        "import matplotlib.pyplot as plt\n",
        "import numpy as np\n",
        "import pandas as pd\n",
        "import seaborn as sns\n",
        "import matplotlib.pyplot as plt\n",
        "import matplotlib.cm as cm"
      ],
      "metadata": {
        "id": "pRQNt4bco9Mm"
      },
      "execution_count": 83,
      "outputs": []
    },
    {
      "cell_type": "code",
      "source": [
        "#load data\n",
        "#load data\n",
        "iris = load_iris() # datasets prefix is not needed if the module was imported directly\n",
        "features = iris.data"
      ],
      "metadata": {
        "id": "6GArc2KIo9PO"
      },
      "execution_count": 85,
      "outputs": []
    },
    {
      "cell_type": "code",
      "source": [
        "#standardize features\n",
        "scaler = StandardScaler()\n",
        "features_std = scaler.fit_transform(features)"
      ],
      "metadata": {
        "id": "qNi7TeB4o9Rs"
      },
      "execution_count": 86,
      "outputs": []
    },
    {
      "cell_type": "code",
      "source": [
        "#creat K-means object\n",
        "cluster = MiniBatchKMeans(n_clusters=3, random_state=0, batch_size=100,n_init=\"auto\")\n",
        "model = cluster.fit(features_std)\n",
        "model.labels_\n",
        "\n"
      ],
      "metadata": {
        "colab": {
          "base_uri": "https://localhost:8080/"
        },
        "id": "MTv6g20ho9Uv",
        "outputId": "8bcee27e-9c0e-4e34-d2d5-b22049f04045"
      },
      "execution_count": 88,
      "outputs": [
        {
          "output_type": "execute_result",
          "data": {
            "text/plain": [
              "array([1, 1, 1, 1, 1, 1, 1, 1, 1, 1, 1, 1, 1, 1, 1, 1, 1, 1, 1, 1, 1, 1,\n",
              "       1, 1, 1, 1, 1, 1, 1, 1, 1, 1, 1, 1, 1, 1, 1, 1, 1, 1, 1, 1, 1, 1,\n",
              "       1, 1, 1, 1, 1, 1, 2, 2, 2, 0, 0, 0, 2, 0, 0, 0, 0, 0, 0, 0, 0, 2,\n",
              "       0, 0, 0, 0, 2, 0, 0, 0, 0, 2, 2, 2, 0, 0, 0, 0, 0, 0, 0, 2, 2, 0,\n",
              "       0, 0, 0, 0, 0, 0, 0, 0, 0, 0, 0, 0, 2, 0, 2, 2, 2, 2, 0, 2, 2, 2,\n",
              "       2, 2, 2, 0, 0, 2, 2, 2, 2, 0, 2, 0, 2, 0, 2, 2, 0, 2, 2, 2, 2, 2,\n",
              "       2, 0, 0, 2, 2, 2, 0, 2, 2, 2, 0, 2, 2, 2, 0, 2, 2, 0], dtype=int32)"
            ]
          },
          "metadata": {},
          "execution_count": 88
        }
      ]
    },
    {
      "cell_type": "code",
      "source": [
        "#MiniBatchKMeans is a clustering algorithm that is a variant of the KMeans algorithm.\n",
        "#It is designed to speed up the clustering process on large datasets. Instead of using the entire dataset to update the cluster centroids at each iteration,\n",
        "#MiniBatchKMeans uses a small, randomly selected batch of data. This can significantly reduce the computation time, especially for very large datasets.\n",
        "from sklearn.cluster import MiniBatchKMeans\n",
        "\n",
        "# Load the data\n",
        "iris = load_iris()\n",
        "features = iris.data\n",
        "\n",
        "# Standardize the features\n",
        "scaler = StandardScaler()\n",
        "features_std = scaler.fit_transform(features)\n",
        "\n",
        "# Create a MiniBatchKMeans object\n",
        "cluster = MiniBatchKMeans(n_clusters=3, random_state=0, batch_size=100, n_init=\"auto\")\n",
        "\n",
        "# Fit the model to the data\n",
        "model = cluster.fit(features_std)\n",
        "\n",
        "# Get the cluster labels\n",
        "labels = model.labels_\n",
        "labels"
      ],
      "metadata": {
        "colab": {
          "base_uri": "https://localhost:8080/"
        },
        "id": "YtPqEnToo9YG",
        "outputId": "9d4e4ed0-6972-43dd-dca7-aeb5edbce298"
      },
      "execution_count": 91,
      "outputs": [
        {
          "output_type": "execute_result",
          "data": {
            "text/plain": [
              "array([1, 1, 1, 1, 1, 1, 1, 1, 1, 1, 1, 1, 1, 1, 1, 1, 1, 1, 1, 1, 1, 1,\n",
              "       1, 1, 1, 1, 1, 1, 1, 1, 1, 1, 1, 1, 1, 1, 1, 1, 1, 1, 1, 1, 1, 1,\n",
              "       1, 1, 1, 1, 1, 1, 2, 2, 2, 0, 0, 0, 2, 0, 0, 0, 0, 0, 0, 0, 0, 2,\n",
              "       0, 0, 0, 0, 2, 0, 0, 0, 0, 2, 2, 2, 0, 0, 0, 0, 0, 0, 0, 2, 2, 0,\n",
              "       0, 0, 0, 0, 0, 0, 0, 0, 0, 0, 0, 0, 2, 0, 2, 2, 2, 2, 0, 2, 2, 2,\n",
              "       2, 2, 2, 0, 0, 2, 2, 2, 2, 0, 2, 0, 2, 0, 2, 2, 0, 2, 2, 2, 2, 2,\n",
              "       2, 0, 0, 2, 2, 2, 0, 2, 2, 2, 0, 2, 2, 2, 0, 2, 2, 0], dtype=int32)"
            ]
          },
          "metadata": {},
          "execution_count": 91
        }
      ]
    },
    {
      "cell_type": "code",
      "source": [
        "#clustering using Mean shift\n",
        "#use mean shift clustering\n",
        "#load libries\n",
        "from sklearn.cluster import MeanShift\n",
        "from sklearn.datasets import make_blobs\n",
        "from sklearn.preprocessing import StandardScaler\n",
        "from sklearn.datasets import load_iris\n",
        "from sklearn.cluster import KMeans\n",
        "from sklearn.cluster import MiniBatchKMeans\n",
        "from sklearn.cluster import MeanShift\n",
        "import matplotlib.pyplot as plt\n",
        "import numpy as np\n",
        "import pandas as pd\n",
        "import seaborn as sns\n",
        "import matplotlib.pyplot as plt\n",
        "import matplotlib.cm as cm\n"
      ],
      "metadata": {
        "id": "W77VAb0XtL2u"
      },
      "execution_count": 92,
      "outputs": []
    },
    {
      "cell_type": "code",
      "source": [
        "iris = load_iris()\n",
        "features = iris.data\n",
        "features"
      ],
      "metadata": {
        "colab": {
          "base_uri": "https://localhost:8080/"
        },
        "id": "blb-CWRrtL5i",
        "outputId": "70ccde47-a481-45f3-c50a-7ef15b1b74c4"
      },
      "execution_count": 94,
      "outputs": [
        {
          "output_type": "execute_result",
          "data": {
            "text/plain": [
              "array([[5.1, 3.5, 1.4, 0.2],\n",
              "       [4.9, 3. , 1.4, 0.2],\n",
              "       [4.7, 3.2, 1.3, 0.2],\n",
              "       [4.6, 3.1, 1.5, 0.2],\n",
              "       [5. , 3.6, 1.4, 0.2],\n",
              "       [5.4, 3.9, 1.7, 0.4],\n",
              "       [4.6, 3.4, 1.4, 0.3],\n",
              "       [5. , 3.4, 1.5, 0.2],\n",
              "       [4.4, 2.9, 1.4, 0.2],\n",
              "       [4.9, 3.1, 1.5, 0.1],\n",
              "       [5.4, 3.7, 1.5, 0.2],\n",
              "       [4.8, 3.4, 1.6, 0.2],\n",
              "       [4.8, 3. , 1.4, 0.1],\n",
              "       [4.3, 3. , 1.1, 0.1],\n",
              "       [5.8, 4. , 1.2, 0.2],\n",
              "       [5.7, 4.4, 1.5, 0.4],\n",
              "       [5.4, 3.9, 1.3, 0.4],\n",
              "       [5.1, 3.5, 1.4, 0.3],\n",
              "       [5.7, 3.8, 1.7, 0.3],\n",
              "       [5.1, 3.8, 1.5, 0.3],\n",
              "       [5.4, 3.4, 1.7, 0.2],\n",
              "       [5.1, 3.7, 1.5, 0.4],\n",
              "       [4.6, 3.6, 1. , 0.2],\n",
              "       [5.1, 3.3, 1.7, 0.5],\n",
              "       [4.8, 3.4, 1.9, 0.2],\n",
              "       [5. , 3. , 1.6, 0.2],\n",
              "       [5. , 3.4, 1.6, 0.4],\n",
              "       [5.2, 3.5, 1.5, 0.2],\n",
              "       [5.2, 3.4, 1.4, 0.2],\n",
              "       [4.7, 3.2, 1.6, 0.2],\n",
              "       [4.8, 3.1, 1.6, 0.2],\n",
              "       [5.4, 3.4, 1.5, 0.4],\n",
              "       [5.2, 4.1, 1.5, 0.1],\n",
              "       [5.5, 4.2, 1.4, 0.2],\n",
              "       [4.9, 3.1, 1.5, 0.2],\n",
              "       [5. , 3.2, 1.2, 0.2],\n",
              "       [5.5, 3.5, 1.3, 0.2],\n",
              "       [4.9, 3.6, 1.4, 0.1],\n",
              "       [4.4, 3. , 1.3, 0.2],\n",
              "       [5.1, 3.4, 1.5, 0.2],\n",
              "       [5. , 3.5, 1.3, 0.3],\n",
              "       [4.5, 2.3, 1.3, 0.3],\n",
              "       [4.4, 3.2, 1.3, 0.2],\n",
              "       [5. , 3.5, 1.6, 0.6],\n",
              "       [5.1, 3.8, 1.9, 0.4],\n",
              "       [4.8, 3. , 1.4, 0.3],\n",
              "       [5.1, 3.8, 1.6, 0.2],\n",
              "       [4.6, 3.2, 1.4, 0.2],\n",
              "       [5.3, 3.7, 1.5, 0.2],\n",
              "       [5. , 3.3, 1.4, 0.2],\n",
              "       [7. , 3.2, 4.7, 1.4],\n",
              "       [6.4, 3.2, 4.5, 1.5],\n",
              "       [6.9, 3.1, 4.9, 1.5],\n",
              "       [5.5, 2.3, 4. , 1.3],\n",
              "       [6.5, 2.8, 4.6, 1.5],\n",
              "       [5.7, 2.8, 4.5, 1.3],\n",
              "       [6.3, 3.3, 4.7, 1.6],\n",
              "       [4.9, 2.4, 3.3, 1. ],\n",
              "       [6.6, 2.9, 4.6, 1.3],\n",
              "       [5.2, 2.7, 3.9, 1.4],\n",
              "       [5. , 2. , 3.5, 1. ],\n",
              "       [5.9, 3. , 4.2, 1.5],\n",
              "       [6. , 2.2, 4. , 1. ],\n",
              "       [6.1, 2.9, 4.7, 1.4],\n",
              "       [5.6, 2.9, 3.6, 1.3],\n",
              "       [6.7, 3.1, 4.4, 1.4],\n",
              "       [5.6, 3. , 4.5, 1.5],\n",
              "       [5.8, 2.7, 4.1, 1. ],\n",
              "       [6.2, 2.2, 4.5, 1.5],\n",
              "       [5.6, 2.5, 3.9, 1.1],\n",
              "       [5.9, 3.2, 4.8, 1.8],\n",
              "       [6.1, 2.8, 4. , 1.3],\n",
              "       [6.3, 2.5, 4.9, 1.5],\n",
              "       [6.1, 2.8, 4.7, 1.2],\n",
              "       [6.4, 2.9, 4.3, 1.3],\n",
              "       [6.6, 3. , 4.4, 1.4],\n",
              "       [6.8, 2.8, 4.8, 1.4],\n",
              "       [6.7, 3. , 5. , 1.7],\n",
              "       [6. , 2.9, 4.5, 1.5],\n",
              "       [5.7, 2.6, 3.5, 1. ],\n",
              "       [5.5, 2.4, 3.8, 1.1],\n",
              "       [5.5, 2.4, 3.7, 1. ],\n",
              "       [5.8, 2.7, 3.9, 1.2],\n",
              "       [6. , 2.7, 5.1, 1.6],\n",
              "       [5.4, 3. , 4.5, 1.5],\n",
              "       [6. , 3.4, 4.5, 1.6],\n",
              "       [6.7, 3.1, 4.7, 1.5],\n",
              "       [6.3, 2.3, 4.4, 1.3],\n",
              "       [5.6, 3. , 4.1, 1.3],\n",
              "       [5.5, 2.5, 4. , 1.3],\n",
              "       [5.5, 2.6, 4.4, 1.2],\n",
              "       [6.1, 3. , 4.6, 1.4],\n",
              "       [5.8, 2.6, 4. , 1.2],\n",
              "       [5. , 2.3, 3.3, 1. ],\n",
              "       [5.6, 2.7, 4.2, 1.3],\n",
              "       [5.7, 3. , 4.2, 1.2],\n",
              "       [5.7, 2.9, 4.2, 1.3],\n",
              "       [6.2, 2.9, 4.3, 1.3],\n",
              "       [5.1, 2.5, 3. , 1.1],\n",
              "       [5.7, 2.8, 4.1, 1.3],\n",
              "       [6.3, 3.3, 6. , 2.5],\n",
              "       [5.8, 2.7, 5.1, 1.9],\n",
              "       [7.1, 3. , 5.9, 2.1],\n",
              "       [6.3, 2.9, 5.6, 1.8],\n",
              "       [6.5, 3. , 5.8, 2.2],\n",
              "       [7.6, 3. , 6.6, 2.1],\n",
              "       [4.9, 2.5, 4.5, 1.7],\n",
              "       [7.3, 2.9, 6.3, 1.8],\n",
              "       [6.7, 2.5, 5.8, 1.8],\n",
              "       [7.2, 3.6, 6.1, 2.5],\n",
              "       [6.5, 3.2, 5.1, 2. ],\n",
              "       [6.4, 2.7, 5.3, 1.9],\n",
              "       [6.8, 3. , 5.5, 2.1],\n",
              "       [5.7, 2.5, 5. , 2. ],\n",
              "       [5.8, 2.8, 5.1, 2.4],\n",
              "       [6.4, 3.2, 5.3, 2.3],\n",
              "       [6.5, 3. , 5.5, 1.8],\n",
              "       [7.7, 3.8, 6.7, 2.2],\n",
              "       [7.7, 2.6, 6.9, 2.3],\n",
              "       [6. , 2.2, 5. , 1.5],\n",
              "       [6.9, 3.2, 5.7, 2.3],\n",
              "       [5.6, 2.8, 4.9, 2. ],\n",
              "       [7.7, 2.8, 6.7, 2. ],\n",
              "       [6.3, 2.7, 4.9, 1.8],\n",
              "       [6.7, 3.3, 5.7, 2.1],\n",
              "       [7.2, 3.2, 6. , 1.8],\n",
              "       [6.2, 2.8, 4.8, 1.8],\n",
              "       [6.1, 3. , 4.9, 1.8],\n",
              "       [6.4, 2.8, 5.6, 2.1],\n",
              "       [7.2, 3. , 5.8, 1.6],\n",
              "       [7.4, 2.8, 6.1, 1.9],\n",
              "       [7.9, 3.8, 6.4, 2. ],\n",
              "       [6.4, 2.8, 5.6, 2.2],\n",
              "       [6.3, 2.8, 5.1, 1.5],\n",
              "       [6.1, 2.6, 5.6, 1.4],\n",
              "       [7.7, 3. , 6.1, 2.3],\n",
              "       [6.3, 3.4, 5.6, 2.4],\n",
              "       [6.4, 3.1, 5.5, 1.8],\n",
              "       [6. , 3. , 4.8, 1.8],\n",
              "       [6.9, 3.1, 5.4, 2.1],\n",
              "       [6.7, 3.1, 5.6, 2.4],\n",
              "       [6.9, 3.1, 5.1, 2.3],\n",
              "       [5.8, 2.7, 5.1, 1.9],\n",
              "       [6.8, 3.2, 5.9, 2.3],\n",
              "       [6.7, 3.3, 5.7, 2.5],\n",
              "       [6.7, 3. , 5.2, 2.3],\n",
              "       [6.3, 2.5, 5. , 1.9],\n",
              "       [6.5, 3. , 5.2, 2. ],\n",
              "       [6.2, 3.4, 5.4, 2.3],\n",
              "       [5.9, 3. , 5.1, 1.8]])"
            ]
          },
          "metadata": {},
          "execution_count": 94
        }
      ]
    },
    {
      "cell_type": "code",
      "source": [
        "#standarize\n",
        "scaler = StandardScaler()\n",
        "features_std = scaler.fit_transform(features)\n",
        "features_std"
      ],
      "metadata": {
        "colab": {
          "base_uri": "https://localhost:8080/"
        },
        "id": "skjNmFfgtL8h",
        "outputId": "808accbc-65d1-45e7-8130-ac6c1b42d827"
      },
      "execution_count": 96,
      "outputs": [
        {
          "output_type": "execute_result",
          "data": {
            "text/plain": [
              "array([[-9.00681170e-01,  1.01900435e+00, -1.34022653e+00,\n",
              "        -1.31544430e+00],\n",
              "       [-1.14301691e+00, -1.31979479e-01, -1.34022653e+00,\n",
              "        -1.31544430e+00],\n",
              "       [-1.38535265e+00,  3.28414053e-01, -1.39706395e+00,\n",
              "        -1.31544430e+00],\n",
              "       [-1.50652052e+00,  9.82172869e-02, -1.28338910e+00,\n",
              "        -1.31544430e+00],\n",
              "       [-1.02184904e+00,  1.24920112e+00, -1.34022653e+00,\n",
              "        -1.31544430e+00],\n",
              "       [-5.37177559e-01,  1.93979142e+00, -1.16971425e+00,\n",
              "        -1.05217993e+00],\n",
              "       [-1.50652052e+00,  7.88807586e-01, -1.34022653e+00,\n",
              "        -1.18381211e+00],\n",
              "       [-1.02184904e+00,  7.88807586e-01, -1.28338910e+00,\n",
              "        -1.31544430e+00],\n",
              "       [-1.74885626e+00, -3.62176246e-01, -1.34022653e+00,\n",
              "        -1.31544430e+00],\n",
              "       [-1.14301691e+00,  9.82172869e-02, -1.28338910e+00,\n",
              "        -1.44707648e+00],\n",
              "       [-5.37177559e-01,  1.47939788e+00, -1.28338910e+00,\n",
              "        -1.31544430e+00],\n",
              "       [-1.26418478e+00,  7.88807586e-01, -1.22655167e+00,\n",
              "        -1.31544430e+00],\n",
              "       [-1.26418478e+00, -1.31979479e-01, -1.34022653e+00,\n",
              "        -1.44707648e+00],\n",
              "       [-1.87002413e+00, -1.31979479e-01, -1.51073881e+00,\n",
              "        -1.44707648e+00],\n",
              "       [-5.25060772e-02,  2.16998818e+00, -1.45390138e+00,\n",
              "        -1.31544430e+00],\n",
              "       [-1.73673948e-01,  3.09077525e+00, -1.28338910e+00,\n",
              "        -1.05217993e+00],\n",
              "       [-5.37177559e-01,  1.93979142e+00, -1.39706395e+00,\n",
              "        -1.05217993e+00],\n",
              "       [-9.00681170e-01,  1.01900435e+00, -1.34022653e+00,\n",
              "        -1.18381211e+00],\n",
              "       [-1.73673948e-01,  1.70959465e+00, -1.16971425e+00,\n",
              "        -1.18381211e+00],\n",
              "       [-9.00681170e-01,  1.70959465e+00, -1.28338910e+00,\n",
              "        -1.18381211e+00],\n",
              "       [-5.37177559e-01,  7.88807586e-01, -1.16971425e+00,\n",
              "        -1.31544430e+00],\n",
              "       [-9.00681170e-01,  1.47939788e+00, -1.28338910e+00,\n",
              "        -1.05217993e+00],\n",
              "       [-1.50652052e+00,  1.24920112e+00, -1.56757623e+00,\n",
              "        -1.31544430e+00],\n",
              "       [-9.00681170e-01,  5.58610819e-01, -1.16971425e+00,\n",
              "        -9.20547742e-01],\n",
              "       [-1.26418478e+00,  7.88807586e-01, -1.05603939e+00,\n",
              "        -1.31544430e+00],\n",
              "       [-1.02184904e+00, -1.31979479e-01, -1.22655167e+00,\n",
              "        -1.31544430e+00],\n",
              "       [-1.02184904e+00,  7.88807586e-01, -1.22655167e+00,\n",
              "        -1.05217993e+00],\n",
              "       [-7.79513300e-01,  1.01900435e+00, -1.28338910e+00,\n",
              "        -1.31544430e+00],\n",
              "       [-7.79513300e-01,  7.88807586e-01, -1.34022653e+00,\n",
              "        -1.31544430e+00],\n",
              "       [-1.38535265e+00,  3.28414053e-01, -1.22655167e+00,\n",
              "        -1.31544430e+00],\n",
              "       [-1.26418478e+00,  9.82172869e-02, -1.22655167e+00,\n",
              "        -1.31544430e+00],\n",
              "       [-5.37177559e-01,  7.88807586e-01, -1.28338910e+00,\n",
              "        -1.05217993e+00],\n",
              "       [-7.79513300e-01,  2.40018495e+00, -1.28338910e+00,\n",
              "        -1.44707648e+00],\n",
              "       [-4.16009689e-01,  2.63038172e+00, -1.34022653e+00,\n",
              "        -1.31544430e+00],\n",
              "       [-1.14301691e+00,  9.82172869e-02, -1.28338910e+00,\n",
              "        -1.31544430e+00],\n",
              "       [-1.02184904e+00,  3.28414053e-01, -1.45390138e+00,\n",
              "        -1.31544430e+00],\n",
              "       [-4.16009689e-01,  1.01900435e+00, -1.39706395e+00,\n",
              "        -1.31544430e+00],\n",
              "       [-1.14301691e+00,  1.24920112e+00, -1.34022653e+00,\n",
              "        -1.44707648e+00],\n",
              "       [-1.74885626e+00, -1.31979479e-01, -1.39706395e+00,\n",
              "        -1.31544430e+00],\n",
              "       [-9.00681170e-01,  7.88807586e-01, -1.28338910e+00,\n",
              "        -1.31544430e+00],\n",
              "       [-1.02184904e+00,  1.01900435e+00, -1.39706395e+00,\n",
              "        -1.18381211e+00],\n",
              "       [-1.62768839e+00, -1.74335684e+00, -1.39706395e+00,\n",
              "        -1.18381211e+00],\n",
              "       [-1.74885626e+00,  3.28414053e-01, -1.39706395e+00,\n",
              "        -1.31544430e+00],\n",
              "       [-1.02184904e+00,  1.01900435e+00, -1.22655167e+00,\n",
              "        -7.88915558e-01],\n",
              "       [-9.00681170e-01,  1.70959465e+00, -1.05603939e+00,\n",
              "        -1.05217993e+00],\n",
              "       [-1.26418478e+00, -1.31979479e-01, -1.34022653e+00,\n",
              "        -1.18381211e+00],\n",
              "       [-9.00681170e-01,  1.70959465e+00, -1.22655167e+00,\n",
              "        -1.31544430e+00],\n",
              "       [-1.50652052e+00,  3.28414053e-01, -1.34022653e+00,\n",
              "        -1.31544430e+00],\n",
              "       [-6.58345429e-01,  1.47939788e+00, -1.28338910e+00,\n",
              "        -1.31544430e+00],\n",
              "       [-1.02184904e+00,  5.58610819e-01, -1.34022653e+00,\n",
              "        -1.31544430e+00],\n",
              "       [ 1.40150837e+00,  3.28414053e-01,  5.35408562e-01,\n",
              "         2.64141916e-01],\n",
              "       [ 6.74501145e-01,  3.28414053e-01,  4.21733708e-01,\n",
              "         3.95774101e-01],\n",
              "       [ 1.28034050e+00,  9.82172869e-02,  6.49083415e-01,\n",
              "         3.95774101e-01],\n",
              "       [-4.16009689e-01, -1.74335684e+00,  1.37546573e-01,\n",
              "         1.32509732e-01],\n",
              "       [ 7.95669016e-01, -5.92373012e-01,  4.78571135e-01,\n",
              "         3.95774101e-01],\n",
              "       [-1.73673948e-01, -5.92373012e-01,  4.21733708e-01,\n",
              "         1.32509732e-01],\n",
              "       [ 5.53333275e-01,  5.58610819e-01,  5.35408562e-01,\n",
              "         5.27406285e-01],\n",
              "       [-1.14301691e+00, -1.51316008e+00, -2.60315415e-01,\n",
              "        -2.62386821e-01],\n",
              "       [ 9.16836886e-01, -3.62176246e-01,  4.78571135e-01,\n",
              "         1.32509732e-01],\n",
              "       [-7.79513300e-01, -8.22569778e-01,  8.07091462e-02,\n",
              "         2.64141916e-01],\n",
              "       [-1.02184904e+00, -2.43394714e+00, -1.46640561e-01,\n",
              "        -2.62386821e-01],\n",
              "       [ 6.86617933e-02, -1.31979479e-01,  2.51221427e-01,\n",
              "         3.95774101e-01],\n",
              "       [ 1.89829664e-01, -1.97355361e+00,  1.37546573e-01,\n",
              "        -2.62386821e-01],\n",
              "       [ 3.10997534e-01, -3.62176246e-01,  5.35408562e-01,\n",
              "         2.64141916e-01],\n",
              "       [-2.94841818e-01, -3.62176246e-01, -8.98031345e-02,\n",
              "         1.32509732e-01],\n",
              "       [ 1.03800476e+00,  9.82172869e-02,  3.64896281e-01,\n",
              "         2.64141916e-01],\n",
              "       [-2.94841818e-01, -1.31979479e-01,  4.21733708e-01,\n",
              "         3.95774101e-01],\n",
              "       [-5.25060772e-02, -8.22569778e-01,  1.94384000e-01,\n",
              "        -2.62386821e-01],\n",
              "       [ 4.32165405e-01, -1.97355361e+00,  4.21733708e-01,\n",
              "         3.95774101e-01],\n",
              "       [-2.94841818e-01, -1.28296331e+00,  8.07091462e-02,\n",
              "        -1.30754636e-01],\n",
              "       [ 6.86617933e-02,  3.28414053e-01,  5.92245988e-01,\n",
              "         7.90670654e-01],\n",
              "       [ 3.10997534e-01, -5.92373012e-01,  1.37546573e-01,\n",
              "         1.32509732e-01],\n",
              "       [ 5.53333275e-01, -1.28296331e+00,  6.49083415e-01,\n",
              "         3.95774101e-01],\n",
              "       [ 3.10997534e-01, -5.92373012e-01,  5.35408562e-01,\n",
              "         8.77547895e-04],\n",
              "       [ 6.74501145e-01, -3.62176246e-01,  3.08058854e-01,\n",
              "         1.32509732e-01],\n",
              "       [ 9.16836886e-01, -1.31979479e-01,  3.64896281e-01,\n",
              "         2.64141916e-01],\n",
              "       [ 1.15917263e+00, -5.92373012e-01,  5.92245988e-01,\n",
              "         2.64141916e-01],\n",
              "       [ 1.03800476e+00, -1.31979479e-01,  7.05920842e-01,\n",
              "         6.59038469e-01],\n",
              "       [ 1.89829664e-01, -3.62176246e-01,  4.21733708e-01,\n",
              "         3.95774101e-01],\n",
              "       [-1.73673948e-01, -1.05276654e+00, -1.46640561e-01,\n",
              "        -2.62386821e-01],\n",
              "       [-4.16009689e-01, -1.51316008e+00,  2.38717193e-02,\n",
              "        -1.30754636e-01],\n",
              "       [-4.16009689e-01, -1.51316008e+00, -3.29657076e-02,\n",
              "        -2.62386821e-01],\n",
              "       [-5.25060772e-02, -8.22569778e-01,  8.07091462e-02,\n",
              "         8.77547895e-04],\n",
              "       [ 1.89829664e-01, -8.22569778e-01,  7.62758269e-01,\n",
              "         5.27406285e-01],\n",
              "       [-5.37177559e-01, -1.31979479e-01,  4.21733708e-01,\n",
              "         3.95774101e-01],\n",
              "       [ 1.89829664e-01,  7.88807586e-01,  4.21733708e-01,\n",
              "         5.27406285e-01],\n",
              "       [ 1.03800476e+00,  9.82172869e-02,  5.35408562e-01,\n",
              "         3.95774101e-01],\n",
              "       [ 5.53333275e-01, -1.74335684e+00,  3.64896281e-01,\n",
              "         1.32509732e-01],\n",
              "       [-2.94841818e-01, -1.31979479e-01,  1.94384000e-01,\n",
              "         1.32509732e-01],\n",
              "       [-4.16009689e-01, -1.28296331e+00,  1.37546573e-01,\n",
              "         1.32509732e-01],\n",
              "       [-4.16009689e-01, -1.05276654e+00,  3.64896281e-01,\n",
              "         8.77547895e-04],\n",
              "       [ 3.10997534e-01, -1.31979479e-01,  4.78571135e-01,\n",
              "         2.64141916e-01],\n",
              "       [-5.25060772e-02, -1.05276654e+00,  1.37546573e-01,\n",
              "         8.77547895e-04],\n",
              "       [-1.02184904e+00, -1.74335684e+00, -2.60315415e-01,\n",
              "        -2.62386821e-01],\n",
              "       [-2.94841818e-01, -8.22569778e-01,  2.51221427e-01,\n",
              "         1.32509732e-01],\n",
              "       [-1.73673948e-01, -1.31979479e-01,  2.51221427e-01,\n",
              "         8.77547895e-04],\n",
              "       [-1.73673948e-01, -3.62176246e-01,  2.51221427e-01,\n",
              "         1.32509732e-01],\n",
              "       [ 4.32165405e-01, -3.62176246e-01,  3.08058854e-01,\n",
              "         1.32509732e-01],\n",
              "       [-9.00681170e-01, -1.28296331e+00, -4.30827696e-01,\n",
              "        -1.30754636e-01],\n",
              "       [-1.73673948e-01, -5.92373012e-01,  1.94384000e-01,\n",
              "         1.32509732e-01],\n",
              "       [ 5.53333275e-01,  5.58610819e-01,  1.27429511e+00,\n",
              "         1.71209594e+00],\n",
              "       [-5.25060772e-02, -8.22569778e-01,  7.62758269e-01,\n",
              "         9.22302838e-01],\n",
              "       [ 1.52267624e+00, -1.31979479e-01,  1.21745768e+00,\n",
              "         1.18556721e+00],\n",
              "       [ 5.53333275e-01, -3.62176246e-01,  1.04694540e+00,\n",
              "         7.90670654e-01],\n",
              "       [ 7.95669016e-01, -1.31979479e-01,  1.16062026e+00,\n",
              "         1.31719939e+00],\n",
              "       [ 2.12851559e+00, -1.31979479e-01,  1.61531967e+00,\n",
              "         1.18556721e+00],\n",
              "       [-1.14301691e+00, -1.28296331e+00,  4.21733708e-01,\n",
              "         6.59038469e-01],\n",
              "       [ 1.76501198e+00, -3.62176246e-01,  1.44480739e+00,\n",
              "         7.90670654e-01],\n",
              "       [ 1.03800476e+00, -1.28296331e+00,  1.16062026e+00,\n",
              "         7.90670654e-01],\n",
              "       [ 1.64384411e+00,  1.24920112e+00,  1.33113254e+00,\n",
              "         1.71209594e+00],\n",
              "       [ 7.95669016e-01,  3.28414053e-01,  7.62758269e-01,\n",
              "         1.05393502e+00],\n",
              "       [ 6.74501145e-01, -8.22569778e-01,  8.76433123e-01,\n",
              "         9.22302838e-01],\n",
              "       [ 1.15917263e+00, -1.31979479e-01,  9.90107977e-01,\n",
              "         1.18556721e+00],\n",
              "       [-1.73673948e-01, -1.28296331e+00,  7.05920842e-01,\n",
              "         1.05393502e+00],\n",
              "       [-5.25060772e-02, -5.92373012e-01,  7.62758269e-01,\n",
              "         1.58046376e+00],\n",
              "       [ 6.74501145e-01,  3.28414053e-01,  8.76433123e-01,\n",
              "         1.44883158e+00],\n",
              "       [ 7.95669016e-01, -1.31979479e-01,  9.90107977e-01,\n",
              "         7.90670654e-01],\n",
              "       [ 2.24968346e+00,  1.70959465e+00,  1.67215710e+00,\n",
              "         1.31719939e+00],\n",
              "       [ 2.24968346e+00, -1.05276654e+00,  1.78583195e+00,\n",
              "         1.44883158e+00],\n",
              "       [ 1.89829664e-01, -1.97355361e+00,  7.05920842e-01,\n",
              "         3.95774101e-01],\n",
              "       [ 1.28034050e+00,  3.28414053e-01,  1.10378283e+00,\n",
              "         1.44883158e+00],\n",
              "       [-2.94841818e-01, -5.92373012e-01,  6.49083415e-01,\n",
              "         1.05393502e+00],\n",
              "       [ 2.24968346e+00, -5.92373012e-01,  1.67215710e+00,\n",
              "         1.05393502e+00],\n",
              "       [ 5.53333275e-01, -8.22569778e-01,  6.49083415e-01,\n",
              "         7.90670654e-01],\n",
              "       [ 1.03800476e+00,  5.58610819e-01,  1.10378283e+00,\n",
              "         1.18556721e+00],\n",
              "       [ 1.64384411e+00,  3.28414053e-01,  1.27429511e+00,\n",
              "         7.90670654e-01],\n",
              "       [ 4.32165405e-01, -5.92373012e-01,  5.92245988e-01,\n",
              "         7.90670654e-01],\n",
              "       [ 3.10997534e-01, -1.31979479e-01,  6.49083415e-01,\n",
              "         7.90670654e-01],\n",
              "       [ 6.74501145e-01, -5.92373012e-01,  1.04694540e+00,\n",
              "         1.18556721e+00],\n",
              "       [ 1.64384411e+00, -1.31979479e-01,  1.16062026e+00,\n",
              "         5.27406285e-01],\n",
              "       [ 1.88617985e+00, -5.92373012e-01,  1.33113254e+00,\n",
              "         9.22302838e-01],\n",
              "       [ 2.49201920e+00,  1.70959465e+00,  1.50164482e+00,\n",
              "         1.05393502e+00],\n",
              "       [ 6.74501145e-01, -5.92373012e-01,  1.04694540e+00,\n",
              "         1.31719939e+00],\n",
              "       [ 5.53333275e-01, -5.92373012e-01,  7.62758269e-01,\n",
              "         3.95774101e-01],\n",
              "       [ 3.10997534e-01, -1.05276654e+00,  1.04694540e+00,\n",
              "         2.64141916e-01],\n",
              "       [ 2.24968346e+00, -1.31979479e-01,  1.33113254e+00,\n",
              "         1.44883158e+00],\n",
              "       [ 5.53333275e-01,  7.88807586e-01,  1.04694540e+00,\n",
              "         1.58046376e+00],\n",
              "       [ 6.74501145e-01,  9.82172869e-02,  9.90107977e-01,\n",
              "         7.90670654e-01],\n",
              "       [ 1.89829664e-01, -1.31979479e-01,  5.92245988e-01,\n",
              "         7.90670654e-01],\n",
              "       [ 1.28034050e+00,  9.82172869e-02,  9.33270550e-01,\n",
              "         1.18556721e+00],\n",
              "       [ 1.03800476e+00,  9.82172869e-02,  1.04694540e+00,\n",
              "         1.58046376e+00],\n",
              "       [ 1.28034050e+00,  9.82172869e-02,  7.62758269e-01,\n",
              "         1.44883158e+00],\n",
              "       [-5.25060772e-02, -8.22569778e-01,  7.62758269e-01,\n",
              "         9.22302838e-01],\n",
              "       [ 1.15917263e+00,  3.28414053e-01,  1.21745768e+00,\n",
              "         1.44883158e+00],\n",
              "       [ 1.03800476e+00,  5.58610819e-01,  1.10378283e+00,\n",
              "         1.71209594e+00],\n",
              "       [ 1.03800476e+00, -1.31979479e-01,  8.19595696e-01,\n",
              "         1.44883158e+00],\n",
              "       [ 5.53333275e-01, -1.28296331e+00,  7.05920842e-01,\n",
              "         9.22302838e-01],\n",
              "       [ 7.95669016e-01, -1.31979479e-01,  8.19595696e-01,\n",
              "         1.05393502e+00],\n",
              "       [ 4.32165405e-01,  7.88807586e-01,  9.33270550e-01,\n",
              "         1.44883158e+00],\n",
              "       [ 6.86617933e-02, -1.31979479e-01,  7.62758269e-01,\n",
              "         7.90670654e-01]])"
            ]
          },
          "metadata": {},
          "execution_count": 96
        }
      ]
    },
    {
      "cell_type": "code",
      "source": [
        "#creat mean shift\n",
        "cluster = MeanShift(n_jobs=-1)\n",
        "model = cluster.fit(features_std)\n",
        "model.labels_"
      ],
      "metadata": {
        "colab": {
          "base_uri": "https://localhost:8080/"
        },
        "id": "trjFXAJ1tL_E",
        "outputId": "8f51dedb-472d-46ff-8f57-db35733ec5f5"
      },
      "execution_count": 97,
      "outputs": [
        {
          "output_type": "execute_result",
          "data": {
            "text/plain": [
              "array([1, 1, 1, 1, 1, 1, 1, 1, 1, 1, 1, 1, 1, 1, 1, 1, 1, 1, 1, 1, 1, 1,\n",
              "       1, 1, 1, 1, 1, 1, 1, 1, 1, 1, 1, 1, 1, 1, 1, 1, 1, 1, 1, 1, 1, 1,\n",
              "       1, 1, 1, 1, 1, 1, 0, 0, 0, 0, 0, 0, 0, 0, 0, 0, 0, 0, 0, 0, 0, 0,\n",
              "       0, 0, 0, 0, 0, 0, 0, 0, 0, 0, 0, 0, 0, 0, 0, 0, 0, 0, 0, 0, 0, 0,\n",
              "       0, 0, 0, 0, 0, 0, 0, 0, 0, 0, 0, 0, 0, 0, 0, 0, 0, 0, 0, 0, 0, 0,\n",
              "       0, 0, 0, 0, 0, 0, 0, 0, 0, 0, 0, 0, 0, 0, 0, 0, 0, 0, 0, 0, 0, 0,\n",
              "       0, 0, 0, 0, 0, 0, 0, 0, 0, 0, 0, 0, 0, 0, 0, 0, 0, 0])"
            ]
          },
          "metadata": {},
          "execution_count": 97
        }
      ]
    },
    {
      "cell_type": "code",
      "source": [
        "#Train model\n",
        "model=cluster.fit(features_std)\n",
        "model.labels_"
      ],
      "metadata": {
        "colab": {
          "base_uri": "https://localhost:8080/"
        },
        "id": "-Abgh-yutMB4",
        "outputId": "bbddb75c-b9c9-4515-c4e7-8aa5df476bd3"
      },
      "execution_count": 98,
      "outputs": [
        {
          "output_type": "execute_result",
          "data": {
            "text/plain": [
              "array([1, 1, 1, 1, 1, 1, 1, 1, 1, 1, 1, 1, 1, 1, 1, 1, 1, 1, 1, 1, 1, 1,\n",
              "       1, 1, 1, 1, 1, 1, 1, 1, 1, 1, 1, 1, 1, 1, 1, 1, 1, 1, 1, 1, 1, 1,\n",
              "       1, 1, 1, 1, 1, 1, 0, 0, 0, 0, 0, 0, 0, 0, 0, 0, 0, 0, 0, 0, 0, 0,\n",
              "       0, 0, 0, 0, 0, 0, 0, 0, 0, 0, 0, 0, 0, 0, 0, 0, 0, 0, 0, 0, 0, 0,\n",
              "       0, 0, 0, 0, 0, 0, 0, 0, 0, 0, 0, 0, 0, 0, 0, 0, 0, 0, 0, 0, 0, 0,\n",
              "       0, 0, 0, 0, 0, 0, 0, 0, 0, 0, 0, 0, 0, 0, 0, 0, 0, 0, 0, 0, 0, 0,\n",
              "       0, 0, 0, 0, 0, 0, 0, 0, 0, 0, 0, 0, 0, 0, 0, 0, 0, 0])"
            ]
          },
          "metadata": {},
          "execution_count": 98
        }
      ]
    },
    {
      "cell_type": "code",
      "source": [
        "#visulazation\n",
        "plot = plt.scatter(features_std[:,0],features_std[:,2])\n",
        "plt.xlabel(\"Feature 0\")\n",
        "plt.ylabel(\"Feature 2\")\n",
        "plt.title(\"Without Outliers\")\n",
        "plt.show()"
      ],
      "metadata": {
        "colab": {
          "base_uri": "https://localhost:8080/",
          "height": 472
        },
        "id": "P4z8A4mpm420",
        "outputId": "a044d0fc-4520-4f88-ee1d-7371485caf17"
      },
      "execution_count": 99,
      "outputs": [
        {
          "output_type": "display_data",
          "data": {
            "text/plain": [
              "<Figure size 640x480 with 1 Axes>"
            ],
            "image/png": "[encoded data removed]"
          },
          "metadata": {}
        }
      ]
    },
    {
      "cell_type": "code",
      "source": [
        "#clustering using Hierarchical Merging\n",
        "from sklearn.cluster import AgglomerativeClustering\n",
        "from sklearn.datasets import make_blobs\n",
        "from sklearn.preprocessing import StandardScaler\n",
        "from sklearn.datasets import load_iris\n",
        "from sklearn.cluster import KMeans\n",
        "from sklearn.cluster import MiniBatchKMeans\n",
        "from sklearn.cluster import MeanShift\n",
        "from sklearn.cluster import DBSCAN\n",
        "import matplotlib.pyplot as plt\n",
        "import numpy as np\n",
        "import pandas as pd\n",
        "import seaborn as sns"
      ],
      "metadata": {
        "id": "Hl2eTTtqm45o"
      },
      "execution_count": 101,
      "outputs": []
    },
    {
      "cell_type": "code",
      "source": [
        "iris=load_iris()\n",
        "features=iris.data\n",
        "features"
      ],
      "metadata": {
        "colab": {
          "base_uri": "https://localhost:8080/"
        },
        "id": "hV5MnGlTvX0J",
        "outputId": "741c1505-ac67-4edb-d601-c15e1c78d930"
      },
      "execution_count": 102,
      "outputs": [
        {
          "output_type": "execute_result",
          "data": {
            "text/plain": [
              "array([[5.1, 3.5, 1.4, 0.2],\n",
              "       [4.9, 3. , 1.4, 0.2],\n",
              "       [4.7, 3.2, 1.3, 0.2],\n",
              "       [4.6, 3.1, 1.5, 0.2],\n",
              "       [5. , 3.6, 1.4, 0.2],\n",
              "       [5.4, 3.9, 1.7, 0.4],\n",
              "       [4.6, 3.4, 1.4, 0.3],\n",
              "       [5. , 3.4, 1.5, 0.2],\n",
              "       [4.4, 2.9, 1.4, 0.2],\n",
              "       [4.9, 3.1, 1.5, 0.1],\n",
              "       [5.4, 3.7, 1.5, 0.2],\n",
              "       [4.8, 3.4, 1.6, 0.2],\n",
              "       [4.8, 3. , 1.4, 0.1],\n",
              "       [4.3, 3. , 1.1, 0.1],\n",
              "       [5.8, 4. , 1.2, 0.2],\n",
              "       [5.7, 4.4, 1.5, 0.4],\n",
              "       [5.4, 3.9, 1.3, 0.4],\n",
              "       [5.1, 3.5, 1.4, 0.3],\n",
              "       [5.7, 3.8, 1.7, 0.3],\n",
              "       [5.1, 3.8, 1.5, 0.3],\n",
              "       [5.4, 3.4, 1.7, 0.2],\n",
              "       [5.1, 3.7, 1.5, 0.4],\n",
              "       [4.6, 3.6, 1. , 0.2],\n",
              "       [5.1, 3.3, 1.7, 0.5],\n",
              "       [4.8, 3.4, 1.9, 0.2],\n",
              "       [5. , 3. , 1.6, 0.2],\n",
              "       [5. , 3.4, 1.6, 0.4],\n",
              "       [5.2, 3.5, 1.5, 0.2],\n",
              "       [5.2, 3.4, 1.4, 0.2],\n",
              "       [4.7, 3.2, 1.6, 0.2],\n",
              "       [4.8, 3.1, 1.6, 0.2],\n",
              "       [5.4, 3.4, 1.5, 0.4],\n",
              "       [5.2, 4.1, 1.5, 0.1],\n",
              "       [5.5, 4.2, 1.4, 0.2],\n",
              "       [4.9, 3.1, 1.5, 0.2],\n",
              "       [5. , 3.2, 1.2, 0.2],\n",
              "       [5.5, 3.5, 1.3, 0.2],\n",
              "       [4.9, 3.6, 1.4, 0.1],\n",
              "       [4.4, 3. , 1.3, 0.2],\n",
              "       [5.1, 3.4, 1.5, 0.2],\n",
              "       [5. , 3.5, 1.3, 0.3],\n",
              "       [4.5, 2.3, 1.3, 0.3],\n",
              "       [4.4, 3.2, 1.3, 0.2],\n",
              "       [5. , 3.5, 1.6, 0.6],\n",
              "       [5.1, 3.8, 1.9, 0.4],\n",
              "       [4.8, 3. , 1.4, 0.3],\n",
              "       [5.1, 3.8, 1.6, 0.2],\n",
              "       [4.6, 3.2, 1.4, 0.2],\n",
              "       [5.3, 3.7, 1.5, 0.2],\n",
              "       [5. , 3.3, 1.4, 0.2],\n",
              "       [7. , 3.2, 4.7, 1.4],\n",
              "       [6.4, 3.2, 4.5, 1.5],\n",
              "       [6.9, 3.1, 4.9, 1.5],\n",
              "       [5.5, 2.3, 4. , 1.3],\n",
              "       [6.5, 2.8, 4.6, 1.5],\n",
              "       [5.7, 2.8, 4.5, 1.3],\n",
              "       [6.3, 3.3, 4.7, 1.6],\n",
              "       [4.9, 2.4, 3.3, 1. ],\n",
              "       [6.6, 2.9, 4.6, 1.3],\n",
              "       [5.2, 2.7, 3.9, 1.4],\n",
              "       [5. , 2. , 3.5, 1. ],\n",
              "       [5.9, 3. , 4.2, 1.5],\n",
              "       [6. , 2.2, 4. , 1. ],\n",
              "       [6.1, 2.9, 4.7, 1.4],\n",
              "       [5.6, 2.9, 3.6, 1.3],\n",
              "       [6.7, 3.1, 4.4, 1.4],\n",
              "       [5.6, 3. , 4.5, 1.5],\n",
              "       [5.8, 2.7, 4.1, 1. ],\n",
              "       [6.2, 2.2, 4.5, 1.5],\n",
              "       [5.6, 2.5, 3.9, 1.1],\n",
              "       [5.9, 3.2, 4.8, 1.8],\n",
              "       [6.1, 2.8, 4. , 1.3],\n",
              "       [6.3, 2.5, 4.9, 1.5],\n",
              "       [6.1, 2.8, 4.7, 1.2],\n",
              "       [6.4, 2.9, 4.3, 1.3],\n",
              "       [6.6, 3. , 4.4, 1.4],\n",
              "       [6.8, 2.8, 4.8, 1.4],\n",
              "       [6.7, 3. , 5. , 1.7],\n",
              "       [6. , 2.9, 4.5, 1.5],\n",
              "       [5.7, 2.6, 3.5, 1. ],\n",
              "       [5.5, 2.4, 3.8, 1.1],\n",
              "       [5.5, 2.4, 3.7, 1. ],\n",
              "       [5.8, 2.7, 3.9, 1.2],\n",
              "       [6. , 2.7, 5.1, 1.6],\n",
              "       [5.4, 3. , 4.5, 1.5],\n",
              "       [6. , 3.4, 4.5, 1.6],\n",
              "       [6.7, 3.1, 4.7, 1.5],\n",
              "       [6.3, 2.3, 4.4, 1.3],\n",
              "       [5.6, 3. , 4.1, 1.3],\n",
              "       [5.5, 2.5, 4. , 1.3],\n",
              "       [5.5, 2.6, 4.4, 1.2],\n",
              "       [6.1, 3. , 4.6, 1.4],\n",
              "       [5.8, 2.6, 4. , 1.2],\n",
              "       [5. , 2.3, 3.3, 1. ],\n",
              "       [5.6, 2.7, 4.2, 1.3],\n",
              "       [5.7, 3. , 4.2, 1.2],\n",
              "       [5.7, 2.9, 4.2, 1.3],\n",
              "       [6.2, 2.9, 4.3, 1.3],\n",
              "       [5.1, 2.5, 3. , 1.1],\n",
              "       [5.7, 2.8, 4.1, 1.3],\n",
              "       [6.3, 3.3, 6. , 2.5],\n",
              "       [5.8, 2.7, 5.1, 1.9],\n",
              "       [7.1, 3. , 5.9, 2.1],\n",
              "       [6.3, 2.9, 5.6, 1.8],\n",
              "       [6.5, 3. , 5.8, 2.2],\n",
              "       [7.6, 3. , 6.6, 2.1],\n",
              "       [4.9, 2.5, 4.5, 1.7],\n",
              "       [7.3, 2.9, 6.3, 1.8],\n",
              "       [6.7, 2.5, 5.8, 1.8],\n",
              "       [7.2, 3.6, 6.1, 2.5],\n",
              "       [6.5, 3.2, 5.1, 2. ],\n",
              "       [6.4, 2.7, 5.3, 1.9],\n",
              "       [6.8, 3. , 5.5, 2.1],\n",
              "       [5.7, 2.5, 5. , 2. ],\n",
              "       [5.8, 2.8, 5.1, 2.4],\n",
              "       [6.4, 3.2, 5.3, 2.3],\n",
              "       [6.5, 3. , 5.5, 1.8],\n",
              "       [7.7, 3.8, 6.7, 2.2],\n",
              "       [7.7, 2.6, 6.9, 2.3],\n",
              "       [6. , 2.2, 5. , 1.5],\n",
              "       [6.9, 3.2, 5.7, 2.3],\n",
              "       [5.6, 2.8, 4.9, 2. ],\n",
              "       [7.7, 2.8, 6.7, 2. ],\n",
              "       [6.3, 2.7, 4.9, 1.8],\n",
              "       [6.7, 3.3, 5.7, 2.1],\n",
              "       [7.2, 3.2, 6. , 1.8],\n",
              "       [6.2, 2.8, 4.8, 1.8],\n",
              "       [6.1, 3. , 4.9, 1.8],\n",
              "       [6.4, 2.8, 5.6, 2.1],\n",
              "       [7.2, 3. , 5.8, 1.6],\n",
              "       [7.4, 2.8, 6.1, 1.9],\n",
              "       [7.9, 3.8, 6.4, 2. ],\n",
              "       [6.4, 2.8, 5.6, 2.2],\n",
              "       [6.3, 2.8, 5.1, 1.5],\n",
              "       [6.1, 2.6, 5.6, 1.4],\n",
              "       [7.7, 3. , 6.1, 2.3],\n",
              "       [6.3, 3.4, 5.6, 2.4],\n",
              "       [6.4, 3.1, 5.5, 1.8],\n",
              "       [6. , 3. , 4.8, 1.8],\n",
              "       [6.9, 3.1, 5.4, 2.1],\n",
              "       [6.7, 3.1, 5.6, 2.4],\n",
              "       [6.9, 3.1, 5.1, 2.3],\n",
              "       [5.8, 2.7, 5.1, 1.9],\n",
              "       [6.8, 3.2, 5.9, 2.3],\n",
              "       [6.7, 3.3, 5.7, 2.5],\n",
              "       [6.7, 3. , 5.2, 2.3],\n",
              "       [6.3, 2.5, 5. , 1.9],\n",
              "       [6.5, 3. , 5.2, 2. ],\n",
              "       [6.2, 3.4, 5.4, 2.3],\n",
              "       [5.9, 3. , 5.1, 1.8]])"
            ]
          },
          "metadata": {},
          "execution_count": 102
        }
      ]
    },
    {
      "cell_type": "code",
      "source": [
        "#standrize scaler\n",
        "scaler = StandardScaler()\n",
        "features_std = scaler.fit_transform(features)\n",
        "features_std"
      ],
      "metadata": {
        "colab": {
          "base_uri": "https://localhost:8080/"
        },
        "id": "RsPVy1acvX2g",
        "outputId": "d6e0a33f-c42a-4ebb-e5cc-a6ba02ff739e"
      },
      "execution_count": 103,
      "outputs": [
        {
          "output_type": "execute_result",
          "data": {
            "text/plain": [
              "array([[-9.00681170e-01,  1.01900435e+00, -1.34022653e+00,\n",
              "        -1.31544430e+00],\n",
              "       [-1.14301691e+00, -1.31979479e-01, -1.34022653e+00,\n",
              "        -1.31544430e+00],\n",
              "       [-1.38535265e+00,  3.28414053e-01, -1.39706395e+00,\n",
              "        -1.31544430e+00],\n",
              "       [-1.50652052e+00,  9.82172869e-02, -1.28338910e+00,\n",
              "        -1.31544430e+00],\n",
              "       [-1.02184904e+00,  1.24920112e+00, -1.34022653e+00,\n",
              "        -1.31544430e+00],\n",
              "       [-5.37177559e-01,  1.93979142e+00, -1.16971425e+00,\n",
              "        -1.05217993e+00],\n",
              "       [-1.50652052e+00,  7.88807586e-01, -1.34022653e+00,\n",
              "        -1.18381211e+00],\n",
              "       [-1.02184904e+00,  7.88807586e-01, -1.28338910e+00,\n",
              "        -1.31544430e+00],\n",
              "       [-1.74885626e+00, -3.62176246e-01, -1.34022653e+00,\n",
              "        -1.31544430e+00],\n",
              "       [-1.14301691e+00,  9.82172869e-02, -1.28338910e+00,\n",
              "        -1.44707648e+00],\n",
              "       [-5.37177559e-01,  1.47939788e+00, -1.28338910e+00,\n",
              "        -1.31544430e+00],\n",
              "       [-1.26418478e+00,  7.88807586e-01, -1.22655167e+00,\n",
              "        -1.31544430e+00],\n",
              "       [-1.26418478e+00, -1.31979479e-01, -1.34022653e+00,\n",
              "        -1.44707648e+00],\n",
              "       [-1.87002413e+00, -1.31979479e-01, -1.51073881e+00,\n",
              "        -1.44707648e+00],\n",
              "       [-5.25060772e-02,  2.16998818e+00, -1.45390138e+00,\n",
              "        -1.31544430e+00],\n",
              "       [-1.73673948e-01,  3.09077525e+00, -1.28338910e+00,\n",
              "        -1.05217993e+00],\n",
              "       [-5.37177559e-01,  1.93979142e+00, -1.39706395e+00,\n",
              "        -1.05217993e+00],\n",
              "       [-9.00681170e-01,  1.01900435e+00, -1.34022653e+00,\n",
              "        -1.18381211e+00],\n",
              "       [-1.73673948e-01,  1.70959465e+00, -1.16971425e+00,\n",
              "        -1.18381211e+00],\n",
              "       [-9.00681170e-01,  1.70959465e+00, -1.28338910e+00,\n",
              "        -1.18381211e+00],\n",
              "       [-5.37177559e-01,  7.88807586e-01, -1.16971425e+00,\n",
              "        -1.31544430e+00],\n",
              "       [-9.00681170e-01,  1.47939788e+00, -1.28338910e+00,\n",
              "        -1.05217993e+00],\n",
              "       [-1.50652052e+00,  1.24920112e+00, -1.56757623e+00,\n",
              "        -1.31544430e+00],\n",
              "       [-9.00681170e-01,  5.58610819e-01, -1.16971425e+00,\n",
              "        -9.20547742e-01],\n",
              "       [-1.26418478e+00,  7.88807586e-01, -1.05603939e+00,\n",
              "        -1.31544430e+00],\n",
              "       [-1.02184904e+00, -1.31979479e-01, -1.22655167e+00,\n",
              "        -1.31544430e+00],\n",
              "       [-1.02184904e+00,  7.88807586e-01, -1.22655167e+00,\n",
              "        -1.05217993e+00],\n",
              "       [-7.79513300e-01,  1.01900435e+00, -1.28338910e+00,\n",
              "        -1.31544430e+00],\n",
              "       [-7.79513300e-01,  7.88807586e-01, -1.34022653e+00,\n",
              "        -1.31544430e+00],\n",
              "       [-1.38535265e+00,  3.28414053e-01, -1.22655167e+00,\n",
              "        -1.31544430e+00],\n",
              "       [-1.26418478e+00,  9.82172869e-02, -1.22655167e+00,\n",
              "        -1.31544430e+00],\n",
              "       [-5.37177559e-01,  7.88807586e-01, -1.28338910e+00,\n",
              "        -1.05217993e+00],\n",
              "       [-7.79513300e-01,  2.40018495e+00, -1.28338910e+00,\n",
              "        -1.44707648e+00],\n",
              "       [-4.16009689e-01,  2.63038172e+00, -1.34022653e+00,\n",
              "        -1.31544430e+00],\n",
              "       [-1.14301691e+00,  9.82172869e-02, -1.28338910e+00,\n",
              "        -1.31544430e+00],\n",
              "       [-1.02184904e+00,  3.28414053e-01, -1.45390138e+00,\n",
              "        -1.31544430e+00],\n",
              "       [-4.16009689e-01,  1.01900435e+00, -1.39706395e+00,\n",
              "        -1.31544430e+00],\n",
              "       [-1.14301691e+00,  1.24920112e+00, -1.34022653e+00,\n",
              "        -1.44707648e+00],\n",
              "       [-1.74885626e+00, -1.31979479e-01, -1.39706395e+00,\n",
              "        -1.31544430e+00],\n",
              "       [-9.00681170e-01,  7.88807586e-01, -1.28338910e+00,\n",
              "        -1.31544430e+00],\n",
              "       [-1.02184904e+00,  1.01900435e+00, -1.39706395e+00,\n",
              "        -1.18381211e+00],\n",
              "       [-1.62768839e+00, -1.74335684e+00, -1.39706395e+00,\n",
              "        -1.18381211e+00],\n",
              "       [-1.74885626e+00,  3.28414053e-01, -1.39706395e+00,\n",
              "        -1.31544430e+00],\n",
              "       [-1.02184904e+00,  1.01900435e+00, -1.22655167e+00,\n",
              "        -7.88915558e-01],\n",
              "       [-9.00681170e-01,  1.70959465e+00, -1.05603939e+00,\n",
              "        -1.05217993e+00],\n",
              "       [-1.26418478e+00, -1.31979479e-01, -1.34022653e+00,\n",
              "        -1.18381211e+00],\n",
              "       [-9.00681170e-01,  1.70959465e+00, -1.22655167e+00,\n",
              "        -1.31544430e+00],\n",
              "       [-1.50652052e+00,  3.28414053e-01, -1.34022653e+00,\n",
              "        -1.31544430e+00],\n",
              "       [-6.58345429e-01,  1.47939788e+00, -1.28338910e+00,\n",
              "        -1.31544430e+00],\n",
              "       [-1.02184904e+00,  5.58610819e-01, -1.34022653e+00,\n",
              "        -1.31544430e+00],\n",
              "       [ 1.40150837e+00,  3.28414053e-01,  5.35408562e-01,\n",
              "         2.64141916e-01],\n",
              "       [ 6.74501145e-01,  3.28414053e-01,  4.21733708e-01,\n",
              "         3.95774101e-01],\n",
              "       [ 1.28034050e+00,  9.82172869e-02,  6.49083415e-01,\n",
              "         3.95774101e-01],\n",
              "       [-4.16009689e-01, -1.74335684e+00,  1.37546573e-01,\n",
              "         1.32509732e-01],\n",
              "       [ 7.95669016e-01, -5.92373012e-01,  4.78571135e-01,\n",
              "         3.95774101e-01],\n",
              "       [-1.73673948e-01, -5.92373012e-01,  4.21733708e-01,\n",
              "         1.32509732e-01],\n",
              "       [ 5.53333275e-01,  5.58610819e-01,  5.35408562e-01,\n",
              "         5.27406285e-01],\n",
              "       [-1.14301691e+00, -1.51316008e+00, -2.60315415e-01,\n",
              "        -2.62386821e-01],\n",
              "       [ 9.16836886e-01, -3.62176246e-01,  4.78571135e-01,\n",
              "         1.32509732e-01],\n",
              "       [-7.79513300e-01, -8.22569778e-01,  8.07091462e-02,\n",
              "         2.64141916e-01],\n",
              "       [-1.02184904e+00, -2.43394714e+00, -1.46640561e-01,\n",
              "        -2.62386821e-01],\n",
              "       [ 6.86617933e-02, -1.31979479e-01,  2.51221427e-01,\n",
              "         3.95774101e-01],\n",
              "       [ 1.89829664e-01, -1.97355361e+00,  1.37546573e-01,\n",
              "        -2.62386821e-01],\n",
              "       [ 3.10997534e-01, -3.62176246e-01,  5.35408562e-01,\n",
              "         2.64141916e-01],\n",
              "       [-2.94841818e-01, -3.62176246e-01, -8.98031345e-02,\n",
              "         1.32509732e-01],\n",
              "       [ 1.03800476e+00,  9.82172869e-02,  3.64896281e-01,\n",
              "         2.64141916e-01],\n",
              "       [-2.94841818e-01, -1.31979479e-01,  4.21733708e-01,\n",
              "         3.95774101e-01],\n",
              "       [-5.25060772e-02, -8.22569778e-01,  1.94384000e-01,\n",
              "        -2.62386821e-01],\n",
              "       [ 4.32165405e-01, -1.97355361e+00,  4.21733708e-01,\n",
              "         3.95774101e-01],\n",
              "       [-2.94841818e-01, -1.28296331e+00,  8.07091462e-02,\n",
              "        -1.30754636e-01],\n",
              "       [ 6.86617933e-02,  3.28414053e-01,  5.92245988e-01,\n",
              "         7.90670654e-01],\n",
              "       [ 3.10997534e-01, -5.92373012e-01,  1.37546573e-01,\n",
              "         1.32509732e-01],\n",
              "       [ 5.53333275e-01, -1.28296331e+00,  6.49083415e-01,\n",
              "         3.95774101e-01],\n",
              "       [ 3.10997534e-01, -5.92373012e-01,  5.35408562e-01,\n",
              "         8.77547895e-04],\n",
              "       [ 6.74501145e-01, -3.62176246e-01,  3.08058854e-01,\n",
              "         1.32509732e-01],\n",
              "       [ 9.16836886e-01, -1.31979479e-01,  3.64896281e-01,\n",
              "         2.64141916e-01],\n",
              "       [ 1.15917263e+00, -5.92373012e-01,  5.92245988e-01,\n",
              "         2.64141916e-01],\n",
              "       [ 1.03800476e+00, -1.31979479e-01,  7.05920842e-01,\n",
              "         6.59038469e-01],\n",
              "       [ 1.89829664e-01, -3.62176246e-01,  4.21733708e-01,\n",
              "         3.95774101e-01],\n",
              "       [-1.73673948e-01, -1.05276654e+00, -1.46640561e-01,\n",
              "        -2.62386821e-01],\n",
              "       [-4.16009689e-01, -1.51316008e+00,  2.38717193e-02,\n",
              "        -1.30754636e-01],\n",
              "       [-4.16009689e-01, -1.51316008e+00, -3.29657076e-02,\n",
              "        -2.62386821e-01],\n",
              "       [-5.25060772e-02, -8.22569778e-01,  8.07091462e-02,\n",
              "         8.77547895e-04],\n",
              "       [ 1.89829664e-01, -8.22569778e-01,  7.62758269e-01,\n",
              "         5.27406285e-01],\n",
              "       [-5.37177559e-01, -1.31979479e-01,  4.21733708e-01,\n",
              "         3.95774101e-01],\n",
              "       [ 1.89829664e-01,  7.88807586e-01,  4.21733708e-01,\n",
              "         5.27406285e-01],\n",
              "       [ 1.03800476e+00,  9.82172869e-02,  5.35408562e-01,\n",
              "         3.95774101e-01],\n",
              "       [ 5.53333275e-01, -1.74335684e+00,  3.64896281e-01,\n",
              "         1.32509732e-01],\n",
              "       [-2.94841818e-01, -1.31979479e-01,  1.94384000e-01,\n",
              "         1.32509732e-01],\n",
              "       [-4.16009689e-01, -1.28296331e+00,  1.37546573e-01,\n",
              "         1.32509732e-01],\n",
              "       [-4.16009689e-01, -1.05276654e+00,  3.64896281e-01,\n",
              "         8.77547895e-04],\n",
              "       [ 3.10997534e-01, -1.31979479e-01,  4.78571135e-01,\n",
              "         2.64141916e-01],\n",
              "       [-5.25060772e-02, -1.05276654e+00,  1.37546573e-01,\n",
              "         8.77547895e-04],\n",
              "       [-1.02184904e+00, -1.74335684e+00, -2.60315415e-01,\n",
              "        -2.62386821e-01],\n",
              "       [-2.94841818e-01, -8.22569778e-01,  2.51221427e-01,\n",
              "         1.32509732e-01],\n",
              "       [-1.73673948e-01, -1.31979479e-01,  2.51221427e-01,\n",
              "         8.77547895e-04],\n",
              "       [-1.73673948e-01, -3.62176246e-01,  2.51221427e-01,\n",
              "         1.32509732e-01],\n",
              "       [ 4.32165405e-01, -3.62176246e-01,  3.08058854e-01,\n",
              "         1.32509732e-01],\n",
              "       [-9.00681170e-01, -1.28296331e+00, -4.30827696e-01,\n",
              "        -1.30754636e-01],\n",
              "       [-1.73673948e-01, -5.92373012e-01,  1.94384000e-01,\n",
              "         1.32509732e-01],\n",
              "       [ 5.53333275e-01,  5.58610819e-01,  1.27429511e+00,\n",
              "         1.71209594e+00],\n",
              "       [-5.25060772e-02, -8.22569778e-01,  7.62758269e-01,\n",
              "         9.22302838e-01],\n",
              "       [ 1.52267624e+00, -1.31979479e-01,  1.21745768e+00,\n",
              "         1.18556721e+00],\n",
              "       [ 5.53333275e-01, -3.62176246e-01,  1.04694540e+00,\n",
              "         7.90670654e-01],\n",
              "       [ 7.95669016e-01, -1.31979479e-01,  1.16062026e+00,\n",
              "         1.31719939e+00],\n",
              "       [ 2.12851559e+00, -1.31979479e-01,  1.61531967e+00,\n",
              "         1.18556721e+00],\n",
              "       [-1.14301691e+00, -1.28296331e+00,  4.21733708e-01,\n",
              "         6.59038469e-01],\n",
              "       [ 1.76501198e+00, -3.62176246e-01,  1.44480739e+00,\n",
              "         7.90670654e-01],\n",
              "       [ 1.03800476e+00, -1.28296331e+00,  1.16062026e+00,\n",
              "         7.90670654e-01],\n",
              "       [ 1.64384411e+00,  1.24920112e+00,  1.33113254e+00,\n",
              "         1.71209594e+00],\n",
              "       [ 7.95669016e-01,  3.28414053e-01,  7.62758269e-01,\n",
              "         1.05393502e+00],\n",
              "       [ 6.74501145e-01, -8.22569778e-01,  8.76433123e-01,\n",
              "         9.22302838e-01],\n",
              "       [ 1.15917263e+00, -1.31979479e-01,  9.90107977e-01,\n",
              "         1.18556721e+00],\n",
              "       [-1.73673948e-01, -1.28296331e+00,  7.05920842e-01,\n",
              "         1.05393502e+00],\n",
              "       [-5.25060772e-02, -5.92373012e-01,  7.62758269e-01,\n",
              "         1.58046376e+00],\n",
              "       [ 6.74501145e-01,  3.28414053e-01,  8.76433123e-01,\n",
              "         1.44883158e+00],\n",
              "       [ 7.95669016e-01, -1.31979479e-01,  9.90107977e-01,\n",
              "         7.90670654e-01],\n",
              "       [ 2.24968346e+00,  1.70959465e+00,  1.67215710e+00,\n",
              "         1.31719939e+00],\n",
              "       [ 2.24968346e+00, -1.05276654e+00,  1.78583195e+00,\n",
              "         1.44883158e+00],\n",
              "       [ 1.89829664e-01, -1.97355361e+00,  7.05920842e-01,\n",
              "         3.95774101e-01],\n",
              "       [ 1.28034050e+00,  3.28414053e-01,  1.10378283e+00,\n",
              "         1.44883158e+00],\n",
              "       [-2.94841818e-01, -5.92373012e-01,  6.49083415e-01,\n",
              "         1.05393502e+00],\n",
              "       [ 2.24968346e+00, -5.92373012e-01,  1.67215710e+00,\n",
              "         1.05393502e+00],\n",
              "       [ 5.53333275e-01, -8.22569778e-01,  6.49083415e-01,\n",
              "         7.90670654e-01],\n",
              "       [ 1.03800476e+00,  5.58610819e-01,  1.10378283e+00,\n",
              "         1.18556721e+00],\n",
              "       [ 1.64384411e+00,  3.28414053e-01,  1.27429511e+00,\n",
              "         7.90670654e-01],\n",
              "       [ 4.32165405e-01, -5.92373012e-01,  5.92245988e-01,\n",
              "         7.90670654e-01],\n",
              "       [ 3.10997534e-01, -1.31979479e-01,  6.49083415e-01,\n",
              "         7.90670654e-01],\n",
              "       [ 6.74501145e-01, -5.92373012e-01,  1.04694540e+00,\n",
              "         1.18556721e+00],\n",
              "       [ 1.64384411e+00, -1.31979479e-01,  1.16062026e+00,\n",
              "         5.27406285e-01],\n",
              "       [ 1.88617985e+00, -5.92373012e-01,  1.33113254e+00,\n",
              "         9.22302838e-01],\n",
              "       [ 2.49201920e+00,  1.70959465e+00,  1.50164482e+00,\n",
              "         1.05393502e+00],\n",
              "       [ 6.74501145e-01, -5.92373012e-01,  1.04694540e+00,\n",
              "         1.31719939e+00],\n",
              "       [ 5.53333275e-01, -5.92373012e-01,  7.62758269e-01,\n",
              "         3.95774101e-01],\n",
              "       [ 3.10997534e-01, -1.05276654e+00,  1.04694540e+00,\n",
              "         2.64141916e-01],\n",
              "       [ 2.24968346e+00, -1.31979479e-01,  1.33113254e+00,\n",
              "         1.44883158e+00],\n",
              "       [ 5.53333275e-01,  7.88807586e-01,  1.04694540e+00,\n",
              "         1.58046376e+00],\n",
              "       [ 6.74501145e-01,  9.82172869e-02,  9.90107977e-01,\n",
              "         7.90670654e-01],\n",
              "       [ 1.89829664e-01, -1.31979479e-01,  5.92245988e-01,\n",
              "         7.90670654e-01],\n",
              "       [ 1.28034050e+00,  9.82172869e-02,  9.33270550e-01,\n",
              "         1.18556721e+00],\n",
              "       [ 1.03800476e+00,  9.82172869e-02,  1.04694540e+00,\n",
              "         1.58046376e+00],\n",
              "       [ 1.28034050e+00,  9.82172869e-02,  7.62758269e-01,\n",
              "         1.44883158e+00],\n",
              "       [-5.25060772e-02, -8.22569778e-01,  7.62758269e-01,\n",
              "         9.22302838e-01],\n",
              "       [ 1.15917263e+00,  3.28414053e-01,  1.21745768e+00,\n",
              "         1.44883158e+00],\n",
              "       [ 1.03800476e+00,  5.58610819e-01,  1.10378283e+00,\n",
              "         1.71209594e+00],\n",
              "       [ 1.03800476e+00, -1.31979479e-01,  8.19595696e-01,\n",
              "         1.44883158e+00],\n",
              "       [ 5.53333275e-01, -1.28296331e+00,  7.05920842e-01,\n",
              "         9.22302838e-01],\n",
              "       [ 7.95669016e-01, -1.31979479e-01,  8.19595696e-01,\n",
              "         1.05393502e+00],\n",
              "       [ 4.32165405e-01,  7.88807586e-01,  9.33270550e-01,\n",
              "         1.44883158e+00],\n",
              "       [ 6.86617933e-02, -1.31979479e-01,  7.62758269e-01,\n",
              "         7.90670654e-01]])"
            ]
          },
          "metadata": {},
          "execution_count": 103
        }
      ]
    },
    {
      "cell_type": "code",
      "source": [
        "#create Agglomerative clustering object\n",
        "cluster = AgglomerativeClustering(n_clusters=3)\n",
        "model = cluster.fit(features_std)\n",
        "model.labels_"
      ],
      "metadata": {
        "colab": {
          "base_uri": "https://localhost:8080/"
        },
        "id": "FqkdKunDvX5P",
        "outputId": "84e7fea9-e084-4ace-da21-f1bc02e635aa"
      },
      "execution_count": 104,
      "outputs": [
        {
          "output_type": "execute_result",
          "data": {
            "text/plain": [
              "array([1, 1, 1, 1, 1, 1, 1, 1, 1, 1, 1, 1, 1, 1, 1, 1, 1, 1, 1, 1, 1, 1,\n",
              "       1, 1, 1, 1, 1, 1, 1, 1, 1, 1, 1, 1, 1, 1, 1, 1, 1, 1, 1, 2, 1, 1,\n",
              "       1, 1, 1, 1, 1, 1, 0, 0, 0, 2, 0, 2, 0, 2, 0, 2, 2, 0, 2, 0, 2, 0,\n",
              "       2, 2, 2, 2, 0, 0, 0, 0, 0, 0, 0, 0, 0, 2, 2, 2, 2, 0, 2, 0, 0, 2,\n",
              "       2, 2, 2, 0, 2, 2, 2, 2, 2, 0, 2, 2, 0, 0, 0, 0, 0, 0, 2, 0, 0, 0,\n",
              "       0, 0, 0, 0, 0, 0, 0, 0, 0, 2, 0, 0, 0, 0, 0, 0, 0, 0, 0, 0, 0, 0,\n",
              "       0, 0, 0, 0, 0, 0, 0, 0, 0, 0, 0, 0, 0, 0, 0, 0, 0, 0])"
            ]
          },
          "metadata": {},
          "execution_count": 104
        }
      ]
    },
    {
      "cell_type": "code",
      "source": [
        "#train model\n",
        "model=cluster.fit(features_std)\n",
        "model.labels_\n"
      ],
      "metadata": {
        "colab": {
          "base_uri": "https://localhost:8080/"
        },
        "id": "LVHUr13CvX7f",
        "outputId": "77c0e013-1c12-4a83-ff86-708003aa57e4"
      },
      "execution_count": 105,
      "outputs": [
        {
          "output_type": "execute_result",
          "data": {
            "text/plain": [
              "array([1, 1, 1, 1, 1, 1, 1, 1, 1, 1, 1, 1, 1, 1, 1, 1, 1, 1, 1, 1, 1, 1,\n",
              "       1, 1, 1, 1, 1, 1, 1, 1, 1, 1, 1, 1, 1, 1, 1, 1, 1, 1, 1, 2, 1, 1,\n",
              "       1, 1, 1, 1, 1, 1, 0, 0, 0, 2, 0, 2, 0, 2, 0, 2, 2, 0, 2, 0, 2, 0,\n",
              "       2, 2, 2, 2, 0, 0, 0, 0, 0, 0, 0, 0, 0, 2, 2, 2, 2, 0, 2, 0, 0, 2,\n",
              "       2, 2, 2, 0, 2, 2, 2, 2, 2, 0, 2, 2, 0, 0, 0, 0, 0, 0, 2, 0, 0, 0,\n",
              "       0, 0, 0, 0, 0, 0, 0, 0, 0, 2, 0, 0, 0, 0, 0, 0, 0, 0, 0, 0, 0, 0,\n",
              "       0, 0, 0, 0, 0, 0, 0, 0, 0, 0, 0, 0, 0, 0, 0, 0, 0, 0])"
            ]
          },
          "metadata": {},
          "execution_count": 105
        }
      ]
    },
    {
      "cell_type": "code",
      "source": [
        "#show the cluster membership\n",
        "model.children_"
      ],
      "metadata": {
        "colab": {
          "base_uri": "https://localhost:8080/"
        },
        "id": "hZn3cBg5vX94",
        "outputId": "66ed8786-c21d-4ac7-c5cd-fcf764cc7ed1"
      },
      "execution_count": 108,
      "outputs": [
        {
          "output_type": "execute_result",
          "data": {
            "text/plain": [
              "array([[101, 142],\n",
              "       [  7,  39],\n",
              "       [ 10,  48],\n",
              "       [  0,  17],\n",
              "       [  9,  34],\n",
              "       [128, 132],\n",
              "       [127, 138],\n",
              "       [  2,  47],\n",
              "       [ 19,  46],\n",
              "       [ 80,  81],\n",
              "       [  1,  25],\n",
              "       [120, 143],\n",
              "       [ 11,  24],\n",
              "       [ 40, 153],\n",
              "       [ 30, 154],\n",
              "       [ 29, 157],\n",
              "       [  4,  37],\n",
              "       [ 88,  95],\n",
              "       [136, 148],\n",
              "       [ 63,  78],\n",
              "       [ 13,  38],\n",
              "       [ 65,  86],\n",
              "       [ 28, 151],\n",
              "       [  5,  16],\n",
              "       [ 55,  99],\n",
              "       [ 82,  92],\n",
              "       [ 66,  84],\n",
              "       [ 74,  97],\n",
              "       [ 27, 163],\n",
              "       [ 35,  49],\n",
              "       [ 57,  93],\n",
              "       [116, 137],\n",
              "       [ 12,  45],\n",
              "       [123, 126],\n",
              "       [112, 139],\n",
              "       [149, 156],\n",
              "       [160, 182],\n",
              "       [ 96, 174],\n",
              "       [ 91, 169],\n",
              "       [ 20,  31],\n",
              "       [ 58,  75],\n",
              "       [ 69,  89],\n",
              "       [ 23,  26],\n",
              "       [  3, 165],\n",
              "       [ 51,  56],\n",
              "       [ 90,  94],\n",
              "       [ 50,  52],\n",
              "       [107, 130],\n",
              "       [  8, 170],\n",
              "       [ 21,  44],\n",
              "       [141, 145],\n",
              "       [158, 199],\n",
              "       [ 67, 175],\n",
              "       [ 68, 119],\n",
              "       [ 54, 133],\n",
              "       [140, 200],\n",
              "       [ 36, 189],\n",
              "       [147, 181],\n",
              "       [  6, 162],\n",
              "       [117, 131],\n",
              "       [ 42, 193],\n",
              "       [105, 135],\n",
              "       [111, 183],\n",
              "       [ 71,  73],\n",
              "       [110, 115],\n",
              "       [ 61, 188],\n",
              "       [121, 150],\n",
              "       [164, 186],\n",
              "       [172, 178],\n",
              "       [ 32,  33],\n",
              "       [124, 161],\n",
              "       [ 64, 167],\n",
              "       [ 43, 192],\n",
              "       [159, 191],\n",
              "       [ 83, 134],\n",
              "       [ 79, 202],\n",
              "       [102, 184],\n",
              "       [103, 207],\n",
              "       [177, 213],\n",
              "       [100, 168],\n",
              "       [144, 220],\n",
              "       [171, 196],\n",
              "       [ 98, 180],\n",
              "       [ 72, 146],\n",
              "       [ 76, 190],\n",
              "       [ 18, 173],\n",
              "       [ 53, 223],\n",
              "       [ 87, 203],\n",
              "       [125, 129],\n",
              "       [ 22, 166],\n",
              "       [ 70,  85],\n",
              "       [104, 155],\n",
              "       [ 77, 227],\n",
              "       [ 59, 195],\n",
              "       [118, 122],\n",
              "       [187, 221],\n",
              "       [152, 201],\n",
              "       [113, 216],\n",
              "       [ 14, 235],\n",
              "       [204, 234],\n",
              "       [205, 226],\n",
              "       [194, 240],\n",
              "       [179, 208],\n",
              "       [215, 228],\n",
              "       [108, 233],\n",
              "       [176, 245],\n",
              "       [218, 222],\n",
              "       [114, 247],\n",
              "       [ 62, 237],\n",
              "       [214, 230],\n",
              "       [ 15, 219],\n",
              "       [206, 256],\n",
              "       [197, 238],\n",
              "       [212, 224],\n",
              "       [225, 243],\n",
              "       [211, 244],\n",
              "       [254, 263],\n",
              "       [210, 252],\n",
              "       [241, 242],\n",
              "       [ 60, 232],\n",
              "       [250, 259],\n",
              "       [239, 246],\n",
              "       [109, 209],\n",
              "       [198, 217],\n",
              "       [185, 251],\n",
              "       [236, 264],\n",
              "       [249, 253],\n",
              "       [248, 260],\n",
              "       [106, 275],\n",
              "       [262, 265],\n",
              "       [267, 273],\n",
              "       [229, 270],\n",
              "       [261, 271],\n",
              "       [ 41, 269],\n",
              "       [257, 266],\n",
              "       [231, 276],\n",
              "       [268, 274],\n",
              "       [258, 278],\n",
              "       [285, 286],\n",
              "       [255, 287],\n",
              "       [284, 288],\n",
              "       [272, 281],\n",
              "       [277, 282],\n",
              "       [279, 291],\n",
              "       [283, 289],\n",
              "       [280, 292],\n",
              "       [290, 293],\n",
              "       [294, 296],\n",
              "       [295, 297]])"
            ]
          },
          "metadata": {},
          "execution_count": 108
        }
      ]
    },
    {
      "cell_type": "code",
      "source": [
        "model.labels_"
      ],
      "metadata": {
        "colab": {
          "base_uri": "https://localhost:8080/"
        },
        "id": "HPk2h0egvYAa",
        "outputId": "f3ad4a1a-9cce-495a-b7d3-66d88accc4e4"
      },
      "execution_count": 109,
      "outputs": [
        {
          "output_type": "execute_result",
          "data": {
            "text/plain": [
              "array([1, 1, 1, 1, 1, 1, 1, 1, 1, 1, 1, 1, 1, 1, 1, 1, 1, 1, 1, 1, 1, 1,\n",
              "       1, 1, 1, 1, 1, 1, 1, 1, 1, 1, 1, 1, 1, 1, 1, 1, 1, 1, 1, 2, 1, 1,\n",
              "       1, 1, 1, 1, 1, 1, 0, 0, 0, 2, 0, 2, 0, 2, 0, 2, 2, 0, 2, 0, 2, 0,\n",
              "       2, 2, 2, 2, 0, 0, 0, 0, 0, 0, 0, 0, 0, 2, 2, 2, 2, 0, 2, 0, 0, 2,\n",
              "       2, 2, 2, 0, 2, 2, 2, 2, 2, 0, 2, 2, 0, 0, 0, 0, 0, 0, 2, 0, 0, 0,\n",
              "       0, 0, 0, 0, 0, 0, 0, 0, 0, 2, 0, 0, 0, 0, 0, 0, 0, 0, 0, 0, 0, 0,\n",
              "       0, 0, 0, 0, 0, 0, 0, 0, 0, 0, 0, 0, 0, 0, 0, 0, 0, 0])"
            ]
          },
          "metadata": {},
          "execution_count": 109
        }
      ]
    },
    {
      "cell_type": "code",
      "source": [],
      "metadata": {
        "id": "TdOfHJUSgASc"
      },
      "execution_count": null,
      "outputs": []
    }
  ]
}